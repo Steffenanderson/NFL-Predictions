{
  "nbformat": 4,
  "nbformat_minor": 0,
  "metadata": {
    "colab": {
      "name": "NFL Predictions - Model Tuning.ipynb",
      "provenance": [],
      "collapsed_sections": [],
      "toc_visible": true,
      "mount_file_id": "1l_lspVhNpdCeQPjo82r2BA70HiBqrFYb",
      "authorship_tag": "ABX9TyMq0U+sBIWtzcS0N6DQmaqH",
      "include_colab_link": true
    },
    "kernelspec": {
      "name": "python3",
      "display_name": "Python 3"
    },
    "language_info": {
      "name": "python"
    }
  },
  "cells": [
    {
      "cell_type": "markdown",
      "metadata": {
        "id": "view-in-github",
        "colab_type": "text"
      },
      "source": [
        "<a href=\"https://colab.research.google.com/github/Steffenanderson/NFL-Predictions/blob/main/NFL_Predictions_Model_Tuning.ipynb\" target=\"_parent\"><img src=\"https://colab.research.google.com/assets/colab-badge.svg\" alt=\"Open In Colab\"/></a>"
      ]
    },
    {
      "cell_type": "markdown",
      "metadata": {
        "id": "OAtUBVZFT4_R"
      },
      "source": [
        "## Project 2 - Part 4 (Model Tuning)"
      ]
    },
    {
      "cell_type": "markdown",
      "metadata": {
        "id": "BsiNmHmaUGPF"
      },
      "source": [
        "### Import Libraries and Mount Data"
      ]
    },
    {
      "cell_type": "code",
      "metadata": {
        "id": "pF3UgTyKT_23"
      },
      "source": [
        "import pandas as pd\n",
        "import numpy as np\n",
        "import matplotlib.pyplot as plt\n",
        "import seaborn as sns\n",
        "import plotly.express as px\n",
        "import statistics\n",
        "import warnings \n",
        "warnings.filterwarnings('ignore')\n",
        "\n",
        "import xgboost\n",
        "from sklearn.metrics import accuracy_score\n",
        "from sklearn.pipeline import make_pipeline\n",
        "from sklearn.preprocessing import LabelEncoder, StandardScaler, OneHotEncoder\n",
        "from sklearn.model_selection import train_test_split, RandomizedSearchCV\n",
        "from sklearn.decomposition import PCA\n",
        "from sklearn.neighbors import KNeighborsClassifier\n",
        "from sklearn.linear_model import LogisticRegression\n",
        "from sklearn.tree import DecisionTreeClassifier\n",
        "from sklearn.ensemble import BaggingClassifier, RandomForestClassifier\n",
        "from xgboost import XGBClassifier\n",
        "\n",
        "offense = pd.read_excel('/content/drive/MyDrive/NFL Predictions/NFL_historical_statistics_offense.xlsx')\n",
        "defense = pd.read_excel('/content/drive/MyDrive/NFL Predictions/NFL_historical_statistics_defense.xlsx')\n",
        "sb_winner = pd.read_excel('/content/drive/MyDrive/NFL Predictions/NFL_historical_statistics_superbowl.xlsx')"
      ],
      "execution_count": 54,
      "outputs": []
    },
    {
      "cell_type": "code",
      "metadata": {
        "colab": {
          "base_uri": "https://localhost:8080/",
          "height": 305
        },
        "id": "emNu1KCzxBbV",
        "outputId": "b0847bd8-ac6e-486f-ce9a-efe44544fd38"
      },
      "source": [
        "# offense data\n",
        "offense.head()"
      ],
      "execution_count": 2,
      "outputs": [
        {
          "output_type": "execute_result",
          "data": {
            "text/html": [
              "<div>\n",
              "<style scoped>\n",
              "    .dataframe tbody tr th:only-of-type {\n",
              "        vertical-align: middle;\n",
              "    }\n",
              "\n",
              "    .dataframe tbody tr th {\n",
              "        vertical-align: top;\n",
              "    }\n",
              "\n",
              "    .dataframe thead th {\n",
              "        text-align: right;\n",
              "    }\n",
              "</style>\n",
              "<table border=\"1\" class=\"dataframe\">\n",
              "  <thead>\n",
              "    <tr style=\"text-align: right;\">\n",
              "      <th></th>\n",
              "      <th>Rk</th>\n",
              "      <th>Tm</th>\n",
              "      <th>G</th>\n",
              "      <th>PF_Total</th>\n",
              "      <th>Yds_Total</th>\n",
              "      <th>Ply_Total</th>\n",
              "      <th>Y/P_Total</th>\n",
              "      <th>TO_Total</th>\n",
              "      <th>FL_Total</th>\n",
              "      <th>1stD_Total</th>\n",
              "      <th>Cmp_Passing</th>\n",
              "      <th>Att_Passing</th>\n",
              "      <th>Yds_Passing</th>\n",
              "      <th>TD_Passing</th>\n",
              "      <th>Int_Passing</th>\n",
              "      <th>NY/A_Passing</th>\n",
              "      <th>1stD_Passing</th>\n",
              "      <th>Att_Rushing</th>\n",
              "      <th>Yds_Rushing</th>\n",
              "      <th>TD_Rushing</th>\n",
              "      <th>Y/A_Rushing</th>\n",
              "      <th>1stD_Rushing</th>\n",
              "      <th>Pen_Penalties</th>\n",
              "      <th>Yds_Penalties</th>\n",
              "      <th>1stPy_Penalties</th>\n",
              "      <th>Sc%</th>\n",
              "      <th>TO%</th>\n",
              "      <th>EXP</th>\n",
              "      <th>Year</th>\n",
              "      <th>Off_Def</th>\n",
              "    </tr>\n",
              "  </thead>\n",
              "  <tbody>\n",
              "    <tr>\n",
              "      <th>0</th>\n",
              "      <td>1</td>\n",
              "      <td>Green Bay Packers</td>\n",
              "      <td>16</td>\n",
              "      <td>509</td>\n",
              "      <td>6224</td>\n",
              "      <td>990</td>\n",
              "      <td>6.3</td>\n",
              "      <td>11</td>\n",
              "      <td>6</td>\n",
              "      <td>358</td>\n",
              "      <td>372</td>\n",
              "      <td>526</td>\n",
              "      <td>4106</td>\n",
              "      <td>48</td>\n",
              "      <td>5</td>\n",
              "      <td>7.5</td>\n",
              "      <td>216</td>\n",
              "      <td>443</td>\n",
              "      <td>2118</td>\n",
              "      <td>16</td>\n",
              "      <td>4.8</td>\n",
              "      <td>114</td>\n",
              "      <td>84</td>\n",
              "      <td>684</td>\n",
              "      <td>28</td>\n",
              "      <td>49.7</td>\n",
              "      <td>5.6</td>\n",
              "      <td>290.75</td>\n",
              "      <td>2020</td>\n",
              "      <td>Offense</td>\n",
              "    </tr>\n",
              "    <tr>\n",
              "      <th>1</th>\n",
              "      <td>2</td>\n",
              "      <td>Buffalo Bills</td>\n",
              "      <td>16</td>\n",
              "      <td>501</td>\n",
              "      <td>6343</td>\n",
              "      <td>1034</td>\n",
              "      <td>6.1</td>\n",
              "      <td>22</td>\n",
              "      <td>11</td>\n",
              "      <td>397</td>\n",
              "      <td>410</td>\n",
              "      <td>596</td>\n",
              "      <td>4620</td>\n",
              "      <td>40</td>\n",
              "      <td>11</td>\n",
              "      <td>7.4</td>\n",
              "      <td>240</td>\n",
              "      <td>411</td>\n",
              "      <td>1723</td>\n",
              "      <td>16</td>\n",
              "      <td>4.2</td>\n",
              "      <td>119</td>\n",
              "      <td>102</td>\n",
              "      <td>941</td>\n",
              "      <td>38</td>\n",
              "      <td>49.4</td>\n",
              "      <td>11.8</td>\n",
              "      <td>228.66</td>\n",
              "      <td>2020</td>\n",
              "      <td>Offense</td>\n",
              "    </tr>\n",
              "    <tr>\n",
              "      <th>2</th>\n",
              "      <td>3</td>\n",
              "      <td>Tampa Bay Buccaneers</td>\n",
              "      <td>16</td>\n",
              "      <td>492</td>\n",
              "      <td>6145</td>\n",
              "      <td>1017</td>\n",
              "      <td>6.0</td>\n",
              "      <td>17</td>\n",
              "      <td>5</td>\n",
              "      <td>364</td>\n",
              "      <td>410</td>\n",
              "      <td>626</td>\n",
              "      <td>4626</td>\n",
              "      <td>42</td>\n",
              "      <td>12</td>\n",
              "      <td>7.1</td>\n",
              "      <td>238</td>\n",
              "      <td>369</td>\n",
              "      <td>1519</td>\n",
              "      <td>16</td>\n",
              "      <td>4.1</td>\n",
              "      <td>82</td>\n",
              "      <td>84</td>\n",
              "      <td>715</td>\n",
              "      <td>44</td>\n",
              "      <td>47.8</td>\n",
              "      <td>8.9</td>\n",
              "      <td>246.24</td>\n",
              "      <td>2020</td>\n",
              "      <td>Offense</td>\n",
              "    </tr>\n",
              "    <tr>\n",
              "      <th>3</th>\n",
              "      <td>4</td>\n",
              "      <td>Tennessee Titans</td>\n",
              "      <td>16</td>\n",
              "      <td>491</td>\n",
              "      <td>6343</td>\n",
              "      <td>1031</td>\n",
              "      <td>6.2</td>\n",
              "      <td>12</td>\n",
              "      <td>5</td>\n",
              "      <td>381</td>\n",
              "      <td>316</td>\n",
              "      <td>485</td>\n",
              "      <td>3653</td>\n",
              "      <td>33</td>\n",
              "      <td>7</td>\n",
              "      <td>7.2</td>\n",
              "      <td>203</td>\n",
              "      <td>521</td>\n",
              "      <td>2690</td>\n",
              "      <td>26</td>\n",
              "      <td>5.2</td>\n",
              "      <td>142</td>\n",
              "      <td>86</td>\n",
              "      <td>783</td>\n",
              "      <td>36</td>\n",
              "      <td>47.9</td>\n",
              "      <td>7.2</td>\n",
              "      <td>245.01</td>\n",
              "      <td>2020</td>\n",
              "      <td>Offense</td>\n",
              "    </tr>\n",
              "    <tr>\n",
              "      <th>4</th>\n",
              "      <td>5</td>\n",
              "      <td>New Orleans Saints</td>\n",
              "      <td>16</td>\n",
              "      <td>482</td>\n",
              "      <td>6023</td>\n",
              "      <td>1045</td>\n",
              "      <td>5.8</td>\n",
              "      <td>17</td>\n",
              "      <td>9</td>\n",
              "      <td>367</td>\n",
              "      <td>370</td>\n",
              "      <td>522</td>\n",
              "      <td>3758</td>\n",
              "      <td>28</td>\n",
              "      <td>8</td>\n",
              "      <td>6.8</td>\n",
              "      <td>199</td>\n",
              "      <td>494</td>\n",
              "      <td>2265</td>\n",
              "      <td>30</td>\n",
              "      <td>4.6</td>\n",
              "      <td>147</td>\n",
              "      <td>98</td>\n",
              "      <td>1005</td>\n",
              "      <td>21</td>\n",
              "      <td>45.5</td>\n",
              "      <td>9.0</td>\n",
              "      <td>176.94</td>\n",
              "      <td>2020</td>\n",
              "      <td>Offense</td>\n",
              "    </tr>\n",
              "  </tbody>\n",
              "</table>\n",
              "</div>"
            ],
            "text/plain": [
              "   Rk                    Tm   G  PF_Total  ...   TO%     EXP  Year  Off_Def\n",
              "0   1     Green Bay Packers  16       509  ...   5.6  290.75  2020  Offense\n",
              "1   2         Buffalo Bills  16       501  ...  11.8  228.66  2020  Offense\n",
              "2   3  Tampa Bay Buccaneers  16       492  ...   8.9  246.24  2020  Offense\n",
              "3   4      Tennessee Titans  16       491  ...   7.2  245.01  2020  Offense\n",
              "4   5    New Orleans Saints  16       482  ...   9.0  176.94  2020  Offense\n",
              "\n",
              "[5 rows x 30 columns]"
            ]
          },
          "metadata": {
            "tags": []
          },
          "execution_count": 2
        }
      ]
    },
    {
      "cell_type": "code",
      "metadata": {
        "colab": {
          "base_uri": "https://localhost:8080/",
          "height": 355
        },
        "id": "DUmkV6CDX4uB",
        "outputId": "0d8317e1-c220-4d09-ef6f-c87640ede772"
      },
      "source": [
        "# defense data\n",
        "defense.head()"
      ],
      "execution_count": 3,
      "outputs": [
        {
          "output_type": "execute_result",
          "data": {
            "text/html": [
              "<div>\n",
              "<style scoped>\n",
              "    .dataframe tbody tr th:only-of-type {\n",
              "        vertical-align: middle;\n",
              "    }\n",
              "\n",
              "    .dataframe tbody tr th {\n",
              "        vertical-align: top;\n",
              "    }\n",
              "\n",
              "    .dataframe thead th {\n",
              "        text-align: right;\n",
              "    }\n",
              "</style>\n",
              "<table border=\"1\" class=\"dataframe\">\n",
              "  <thead>\n",
              "    <tr style=\"text-align: right;\">\n",
              "      <th></th>\n",
              "      <th>Rk</th>\n",
              "      <th>Tm</th>\n",
              "      <th>G</th>\n",
              "      <th>PF_Total</th>\n",
              "      <th>Yds_Total</th>\n",
              "      <th>Ply_Total</th>\n",
              "      <th>Y/P_Total</th>\n",
              "      <th>TO_Total</th>\n",
              "      <th>FL_Total</th>\n",
              "      <th>1stD_Total</th>\n",
              "      <th>Cmp_Passing</th>\n",
              "      <th>Att_Passing</th>\n",
              "      <th>Yds_Passing</th>\n",
              "      <th>TD_Passing</th>\n",
              "      <th>Int_Passing</th>\n",
              "      <th>NY/A_Passing</th>\n",
              "      <th>1stD_Passing</th>\n",
              "      <th>Att_Rushing</th>\n",
              "      <th>Yds_Rushing</th>\n",
              "      <th>TD_Rushing</th>\n",
              "      <th>Y/A_Rushing</th>\n",
              "      <th>1stD_Rushing</th>\n",
              "      <th>Pen_Penalties</th>\n",
              "      <th>Yds_Penalties</th>\n",
              "      <th>1stPy_Penalties</th>\n",
              "      <th>Sc%</th>\n",
              "      <th>TO%</th>\n",
              "      <th>EXP</th>\n",
              "      <th>Year</th>\n",
              "      <th>Off_Def</th>\n",
              "    </tr>\n",
              "  </thead>\n",
              "  <tbody>\n",
              "    <tr>\n",
              "      <th>0</th>\n",
              "      <td>1</td>\n",
              "      <td>Los Angeles Rams</td>\n",
              "      <td>16</td>\n",
              "      <td>296</td>\n",
              "      <td>4511</td>\n",
              "      <td>989</td>\n",
              "      <td>4.6</td>\n",
              "      <td>22</td>\n",
              "      <td>8</td>\n",
              "      <td>280</td>\n",
              "      <td>347</td>\n",
              "      <td>548</td>\n",
              "      <td>3051</td>\n",
              "      <td>17</td>\n",
              "      <td>14</td>\n",
              "      <td>5.1</td>\n",
              "      <td>170</td>\n",
              "      <td>388</td>\n",
              "      <td>1460</td>\n",
              "      <td>12</td>\n",
              "      <td>3.8</td>\n",
              "      <td>91</td>\n",
              "      <td>78</td>\n",
              "      <td>582</td>\n",
              "      <td>19</td>\n",
              "      <td>27.9</td>\n",
              "      <td>12.0</td>\n",
              "      <td>85.89</td>\n",
              "      <td>2020</td>\n",
              "      <td>Defense</td>\n",
              "    </tr>\n",
              "    <tr>\n",
              "      <th>1</th>\n",
              "      <td>2</td>\n",
              "      <td>Baltimore Ravens</td>\n",
              "      <td>16</td>\n",
              "      <td>303</td>\n",
              "      <td>5276</td>\n",
              "      <td>1017</td>\n",
              "      <td>5.2</td>\n",
              "      <td>22</td>\n",
              "      <td>12</td>\n",
              "      <td>347</td>\n",
              "      <td>380</td>\n",
              "      <td>596</td>\n",
              "      <td>3536</td>\n",
              "      <td>22</td>\n",
              "      <td>10</td>\n",
              "      <td>5.6</td>\n",
              "      <td>213</td>\n",
              "      <td>382</td>\n",
              "      <td>1740</td>\n",
              "      <td>12</td>\n",
              "      <td>4.6</td>\n",
              "      <td>96</td>\n",
              "      <td>77</td>\n",
              "      <td>646</td>\n",
              "      <td>38</td>\n",
              "      <td>30.0</td>\n",
              "      <td>12.4</td>\n",
              "      <td>-17.69</td>\n",
              "      <td>2020</td>\n",
              "      <td>Defense</td>\n",
              "    </tr>\n",
              "    <tr>\n",
              "      <th>2</th>\n",
              "      <td>3</td>\n",
              "      <td>Pittsburgh Steelers</td>\n",
              "      <td>16</td>\n",
              "      <td>312</td>\n",
              "      <td>4893</td>\n",
              "      <td>996</td>\n",
              "      <td>4.9</td>\n",
              "      <td>27</td>\n",
              "      <td>9</td>\n",
              "      <td>281</td>\n",
              "      <td>298</td>\n",
              "      <td>526</td>\n",
              "      <td>3110</td>\n",
              "      <td>22</td>\n",
              "      <td>18</td>\n",
              "      <td>5.3</td>\n",
              "      <td>163</td>\n",
              "      <td>414</td>\n",
              "      <td>1783</td>\n",
              "      <td>13</td>\n",
              "      <td>4.3</td>\n",
              "      <td>94</td>\n",
              "      <td>103</td>\n",
              "      <td>980</td>\n",
              "      <td>24</td>\n",
              "      <td>29.3</td>\n",
              "      <td>13.8</td>\n",
              "      <td>33.24</td>\n",
              "      <td>2020</td>\n",
              "      <td>Defense</td>\n",
              "    </tr>\n",
              "    <tr>\n",
              "      <th>3</th>\n",
              "      <td>4</td>\n",
              "      <td>Washington Football Team</td>\n",
              "      <td>16</td>\n",
              "      <td>329</td>\n",
              "      <td>4873</td>\n",
              "      <td>1004</td>\n",
              "      <td>4.9</td>\n",
              "      <td>23</td>\n",
              "      <td>7</td>\n",
              "      <td>289</td>\n",
              "      <td>330</td>\n",
              "      <td>529</td>\n",
              "      <td>3068</td>\n",
              "      <td>21</td>\n",
              "      <td>16</td>\n",
              "      <td>5.3</td>\n",
              "      <td>161</td>\n",
              "      <td>428</td>\n",
              "      <td>1805</td>\n",
              "      <td>14</td>\n",
              "      <td>4.2</td>\n",
              "      <td>100</td>\n",
              "      <td>85</td>\n",
              "      <td>708</td>\n",
              "      <td>28</td>\n",
              "      <td>31.4</td>\n",
              "      <td>12.2</td>\n",
              "      <td>32.51</td>\n",
              "      <td>2020</td>\n",
              "      <td>Defense</td>\n",
              "    </tr>\n",
              "    <tr>\n",
              "      <th>4</th>\n",
              "      <td>5</td>\n",
              "      <td>New Orleans Saints</td>\n",
              "      <td>16</td>\n",
              "      <td>337</td>\n",
              "      <td>4974</td>\n",
              "      <td>992</td>\n",
              "      <td>5.0</td>\n",
              "      <td>26</td>\n",
              "      <td>8</td>\n",
              "      <td>320</td>\n",
              "      <td>333</td>\n",
              "      <td>557</td>\n",
              "      <td>3472</td>\n",
              "      <td>28</td>\n",
              "      <td>18</td>\n",
              "      <td>5.8</td>\n",
              "      <td>185</td>\n",
              "      <td>390</td>\n",
              "      <td>1502</td>\n",
              "      <td>11</td>\n",
              "      <td>3.9</td>\n",
              "      <td>85</td>\n",
              "      <td>64</td>\n",
              "      <td>517</td>\n",
              "      <td>50</td>\n",
              "      <td>34.7</td>\n",
              "      <td>13.1</td>\n",
              "      <td>-40.02</td>\n",
              "      <td>2020</td>\n",
              "      <td>Defense</td>\n",
              "    </tr>\n",
              "  </tbody>\n",
              "</table>\n",
              "</div>"
            ],
            "text/plain": [
              "   Rk                        Tm   G  PF_Total  ...   TO%    EXP  Year  Off_Def\n",
              "0   1          Los Angeles Rams  16       296  ...  12.0  85.89  2020  Defense\n",
              "1   2          Baltimore Ravens  16       303  ...  12.4 -17.69  2020  Defense\n",
              "2   3       Pittsburgh Steelers  16       312  ...  13.8  33.24  2020  Defense\n",
              "3   4  Washington Football Team  16       329  ...  12.2  32.51  2020  Defense\n",
              "4   5        New Orleans Saints  16       337  ...  13.1 -40.02  2020  Defense\n",
              "\n",
              "[5 rows x 30 columns]"
            ]
          },
          "metadata": {
            "tags": []
          },
          "execution_count": 3
        }
      ]
    },
    {
      "cell_type": "code",
      "metadata": {
        "colab": {
          "base_uri": "https://localhost:8080/",
          "height": 202
        },
        "id": "JRVKUb5ZfqEp",
        "outputId": "8cca36fa-c8b0-4297-8d06-89767f663819"
      },
      "source": [
        "# superbowl stats\n",
        "sb_winner.head()"
      ],
      "execution_count": 4,
      "outputs": [
        {
          "output_type": "execute_result",
          "data": {
            "text/html": [
              "<div>\n",
              "<style scoped>\n",
              "    .dataframe tbody tr th:only-of-type {\n",
              "        vertical-align: middle;\n",
              "    }\n",
              "\n",
              "    .dataframe tbody tr th {\n",
              "        vertical-align: top;\n",
              "    }\n",
              "\n",
              "    .dataframe thead th {\n",
              "        text-align: right;\n",
              "    }\n",
              "</style>\n",
              "<table border=\"1\" class=\"dataframe\">\n",
              "  <thead>\n",
              "    <tr style=\"text-align: right;\">\n",
              "      <th></th>\n",
              "      <th>Date</th>\n",
              "      <th>SB</th>\n",
              "      <th>Winner</th>\n",
              "      <th>Pts</th>\n",
              "      <th>Loser</th>\n",
              "      <th>Pts.1</th>\n",
              "      <th>MVP</th>\n",
              "      <th>Stadium</th>\n",
              "      <th>City</th>\n",
              "      <th>State</th>\n",
              "    </tr>\n",
              "  </thead>\n",
              "  <tbody>\n",
              "    <tr>\n",
              "      <th>0</th>\n",
              "      <td>Feb 7 2021</td>\n",
              "      <td>55</td>\n",
              "      <td>Tampa Bay Buccaneers</td>\n",
              "      <td>31</td>\n",
              "      <td>Kansas City Chiefs</td>\n",
              "      <td>9</td>\n",
              "      <td>Tom Brady</td>\n",
              "      <td>Raymond James Stadium</td>\n",
              "      <td>Tampa</td>\n",
              "      <td>Florida</td>\n",
              "    </tr>\n",
              "    <tr>\n",
              "      <th>1</th>\n",
              "      <td>Feb 2 2020</td>\n",
              "      <td>54</td>\n",
              "      <td>Kansas City Chiefs</td>\n",
              "      <td>31</td>\n",
              "      <td>San Francisco 49ers</td>\n",
              "      <td>20</td>\n",
              "      <td>Patrick Mahomes</td>\n",
              "      <td>Hard Rock Stadium</td>\n",
              "      <td>Miami Gardens</td>\n",
              "      <td>Florida</td>\n",
              "    </tr>\n",
              "    <tr>\n",
              "      <th>2</th>\n",
              "      <td>Feb 3 2019</td>\n",
              "      <td>53</td>\n",
              "      <td>New England Patriots</td>\n",
              "      <td>13</td>\n",
              "      <td>Los Angeles Rams</td>\n",
              "      <td>3</td>\n",
              "      <td>Julian Edelman</td>\n",
              "      <td>Mercedes-Benz Stadium</td>\n",
              "      <td>Atlanta</td>\n",
              "      <td>Georgia</td>\n",
              "    </tr>\n",
              "    <tr>\n",
              "      <th>3</th>\n",
              "      <td>Feb 4 2018</td>\n",
              "      <td>52</td>\n",
              "      <td>Philadelphia Eagles</td>\n",
              "      <td>41</td>\n",
              "      <td>New England Patriots</td>\n",
              "      <td>33</td>\n",
              "      <td>Nick Foles</td>\n",
              "      <td>U.S. Bank Stadium</td>\n",
              "      <td>Minneapolis</td>\n",
              "      <td>Minnesota</td>\n",
              "    </tr>\n",
              "    <tr>\n",
              "      <th>4</th>\n",
              "      <td>Feb 5 2017</td>\n",
              "      <td>51</td>\n",
              "      <td>New England Patriots</td>\n",
              "      <td>34</td>\n",
              "      <td>Atlanta Falcons</td>\n",
              "      <td>28</td>\n",
              "      <td>Tom Brady</td>\n",
              "      <td>NRG Stadium</td>\n",
              "      <td>Houston</td>\n",
              "      <td>Texas</td>\n",
              "    </tr>\n",
              "  </tbody>\n",
              "</table>\n",
              "</div>"
            ],
            "text/plain": [
              "         Date  SB  ...           City      State\n",
              "0  Feb 7 2021  55  ...          Tampa    Florida\n",
              "1  Feb 2 2020  54  ...  Miami Gardens    Florida\n",
              "2  Feb 3 2019  53  ...        Atlanta    Georgia\n",
              "3  Feb 4 2018  52  ...    Minneapolis  Minnesota\n",
              "4  Feb 5 2017  51  ...        Houston      Texas\n",
              "\n",
              "[5 rows x 10 columns]"
            ]
          },
          "metadata": {
            "tags": []
          },
          "execution_count": 4
        }
      ]
    },
    {
      "cell_type": "markdown",
      "metadata": {
        "id": "8Zh0guU9X8c0"
      },
      "source": [
        "### Exploratory Data Analaysis (EDA)"
      ]
    },
    {
      "cell_type": "code",
      "metadata": {
        "colab": {
          "base_uri": "https://localhost:8080/"
        },
        "id": "4Lo5ruCegpXz",
        "outputId": "af57a5af-2906-4a62-db52-b02444ff304e"
      },
      "source": [
        "# change column names\n",
        "offense.drop(columns='Off_Def',inplace=True)\n",
        "offense.columns = ['O_Rank', 'Team', 'O_Games_Played', 'O_Points_For', 'O_Total_Yards',\n",
        "       'O_Plays', 'O_Y/Play', 'O_TO', 'O_Fumbles_Lost',\n",
        "       'O_1st_D', 'O_P_Completions', 'O_P_Attempts', 'O_P_Yards', 'O_P_TD',\n",
        "       'O_P_Int', 'O_P_Y/PA', 'O_P_Passing_1st_D', 'O_R_Att', 'O_R_Yards',\n",
        "       'O_R_TD', 'O_R_Y/A', 'O_R_1st_D', 'O_Pe', 'O_Pe_Yards',\n",
        "       'O_Pe_1st_D', 'O_Scoring_Drives', 'O_TO_%', 'O_Expected_Points', 'Year']\n",
        "\n",
        "offense.info()"
      ],
      "execution_count": 5,
      "outputs": [
        {
          "output_type": "stream",
          "text": [
            "<class 'pandas.core.frame.DataFrame'>\n",
            "RangeIndex: 352 entries, 0 to 351\n",
            "Data columns (total 29 columns):\n",
            " #   Column             Non-Null Count  Dtype  \n",
            "---  ------             --------------  -----  \n",
            " 0   O_Rank             352 non-null    int64  \n",
            " 1   Team               352 non-null    object \n",
            " 2   O_Games_Played     352 non-null    int64  \n",
            " 3   O_Points_For       352 non-null    int64  \n",
            " 4   O_Total_Yards      352 non-null    int64  \n",
            " 5   O_Plays            352 non-null    int64  \n",
            " 6   O_Y/Play           352 non-null    float64\n",
            " 7   O_TO               352 non-null    int64  \n",
            " 8   O_Fumbles_Lost     352 non-null    int64  \n",
            " 9   O_1st_D            352 non-null    int64  \n",
            " 10  O_P_Completions    352 non-null    int64  \n",
            " 11  O_P_Attempts       352 non-null    int64  \n",
            " 12  O_P_Yards          352 non-null    int64  \n",
            " 13  O_P_TD             352 non-null    int64  \n",
            " 14  O_P_Int            352 non-null    int64  \n",
            " 15  O_P_Y/PA           352 non-null    float64\n",
            " 16  O_P_Passing_1st_D  352 non-null    int64  \n",
            " 17  O_R_Att            352 non-null    int64  \n",
            " 18  O_R_Yards          352 non-null    int64  \n",
            " 19  O_R_TD             352 non-null    int64  \n",
            " 20  O_R_Y/A            352 non-null    float64\n",
            " 21  O_R_1st_D          352 non-null    int64  \n",
            " 22  O_Pe               352 non-null    int64  \n",
            " 23  O_Pe_Yards         352 non-null    int64  \n",
            " 24  O_Pe_1st_D         352 non-null    int64  \n",
            " 25  O_Scoring_Drives   352 non-null    float64\n",
            " 26  O_TO_%             352 non-null    float64\n",
            " 27  O_Expected_Points  352 non-null    float64\n",
            " 28  Year               352 non-null    int64  \n",
            "dtypes: float64(6), int64(22), object(1)\n",
            "memory usage: 79.9+ KB\n"
          ],
          "name": "stdout"
        }
      ]
    },
    {
      "cell_type": "code",
      "metadata": {
        "colab": {
          "base_uri": "https://localhost:8080/"
        },
        "id": "sRV3spXKkhFN",
        "outputId": "800048cf-1d80-43b2-ded7-6cecb1304bd3"
      },
      "source": [
        "# change column names\n",
        "defense.drop(columns='Off_Def',inplace=True)\n",
        "defense.columns = ['D_Rank', 'Team', 'D_Games_Played', 'D_Points_Allowed', 'D_Total_Yards',\n",
        "       'D_Plays', 'D_Y/Play', 'D_TD', 'D_Fumbles_Lost',\n",
        "       'D_1st_D', 'D_P_Completions', 'D_P_Attempts', 'D_P_Yards', 'D_P_TD',\n",
        "       'D_P_Int', 'D_P_Y/PA', 'D_P_Passing_1st_D', 'D_R_Att', 'D_R_Yards',\n",
        "       'D_R_TD', 'D_R_Y/A', 'D_R_1st_D', 'D_Pe', 'D_Pe_Yards',\n",
        "       'D_Pe_1st_D', 'D_Scoring_Drives', 'D_TD_%', 'D_Expected_Points', 'Year']\n",
        "\n",
        "defense.info()"
      ],
      "execution_count": 6,
      "outputs": [
        {
          "output_type": "stream",
          "text": [
            "<class 'pandas.core.frame.DataFrame'>\n",
            "RangeIndex: 352 entries, 0 to 351\n",
            "Data columns (total 29 columns):\n",
            " #   Column             Non-Null Count  Dtype  \n",
            "---  ------             --------------  -----  \n",
            " 0   D_Rank             352 non-null    int64  \n",
            " 1   Team               352 non-null    object \n",
            " 2   D_Games_Played     352 non-null    int64  \n",
            " 3   D_Points_Allowed   352 non-null    int64  \n",
            " 4   D_Total_Yards      352 non-null    int64  \n",
            " 5   D_Plays            352 non-null    int64  \n",
            " 6   D_Y/Play           352 non-null    float64\n",
            " 7   D_TD               352 non-null    int64  \n",
            " 8   D_Fumbles_Lost     352 non-null    int64  \n",
            " 9   D_1st_D            352 non-null    int64  \n",
            " 10  D_P_Completions    352 non-null    int64  \n",
            " 11  D_P_Attempts       352 non-null    int64  \n",
            " 12  D_P_Yards          352 non-null    int64  \n",
            " 13  D_P_TD             352 non-null    int64  \n",
            " 14  D_P_Int            352 non-null    int64  \n",
            " 15  D_P_Y/PA           352 non-null    float64\n",
            " 16  D_P_Passing_1st_D  352 non-null    int64  \n",
            " 17  D_R_Att            352 non-null    int64  \n",
            " 18  D_R_Yards          352 non-null    int64  \n",
            " 19  D_R_TD             352 non-null    int64  \n",
            " 20  D_R_Y/A            352 non-null    float64\n",
            " 21  D_R_1st_D          352 non-null    int64  \n",
            " 22  D_Pe               352 non-null    int64  \n",
            " 23  D_Pe_Yards         352 non-null    int64  \n",
            " 24  D_Pe_1st_D         352 non-null    int64  \n",
            " 25  D_Scoring_Drives   352 non-null    float64\n",
            " 26  D_TD_%             352 non-null    float64\n",
            " 27  D_Expected_Points  352 non-null    float64\n",
            " 28  Year               352 non-null    int64  \n",
            "dtypes: float64(6), int64(22), object(1)\n",
            "memory usage: 79.9+ KB\n"
          ],
          "name": "stdout"
        }
      ]
    },
    {
      "cell_type": "code",
      "metadata": {
        "colab": {
          "base_uri": "https://localhost:8080/",
          "height": 305
        },
        "id": "RFiL8YD-lJ4Q",
        "outputId": "aa115d1a-33eb-4469-ed95-1adccf5c2e73"
      },
      "source": [
        "# merge offense and defense data\n",
        "off_def = offense.merge(defense)\n",
        "off_def.head()"
      ],
      "execution_count": 7,
      "outputs": [
        {
          "output_type": "execute_result",
          "data": {
            "text/html": [
              "<div>\n",
              "<style scoped>\n",
              "    .dataframe tbody tr th:only-of-type {\n",
              "        vertical-align: middle;\n",
              "    }\n",
              "\n",
              "    .dataframe tbody tr th {\n",
              "        vertical-align: top;\n",
              "    }\n",
              "\n",
              "    .dataframe thead th {\n",
              "        text-align: right;\n",
              "    }\n",
              "</style>\n",
              "<table border=\"1\" class=\"dataframe\">\n",
              "  <thead>\n",
              "    <tr style=\"text-align: right;\">\n",
              "      <th></th>\n",
              "      <th>O_Rank</th>\n",
              "      <th>Team</th>\n",
              "      <th>O_Games_Played</th>\n",
              "      <th>O_Points_For</th>\n",
              "      <th>O_Total_Yards</th>\n",
              "      <th>O_Plays</th>\n",
              "      <th>O_Y/Play</th>\n",
              "      <th>O_TO</th>\n",
              "      <th>O_Fumbles_Lost</th>\n",
              "      <th>O_1st_D</th>\n",
              "      <th>O_P_Completions</th>\n",
              "      <th>O_P_Attempts</th>\n",
              "      <th>O_P_Yards</th>\n",
              "      <th>O_P_TD</th>\n",
              "      <th>O_P_Int</th>\n",
              "      <th>O_P_Y/PA</th>\n",
              "      <th>O_P_Passing_1st_D</th>\n",
              "      <th>O_R_Att</th>\n",
              "      <th>O_R_Yards</th>\n",
              "      <th>O_R_TD</th>\n",
              "      <th>O_R_Y/A</th>\n",
              "      <th>O_R_1st_D</th>\n",
              "      <th>O_Pe</th>\n",
              "      <th>O_Pe_Yards</th>\n",
              "      <th>O_Pe_1st_D</th>\n",
              "      <th>O_Scoring_Drives</th>\n",
              "      <th>O_TO_%</th>\n",
              "      <th>O_Expected_Points</th>\n",
              "      <th>Year</th>\n",
              "      <th>D_Rank</th>\n",
              "      <th>D_Games_Played</th>\n",
              "      <th>D_Points_Allowed</th>\n",
              "      <th>D_Total_Yards</th>\n",
              "      <th>D_Plays</th>\n",
              "      <th>D_Y/Play</th>\n",
              "      <th>D_TD</th>\n",
              "      <th>D_Fumbles_Lost</th>\n",
              "      <th>D_1st_D</th>\n",
              "      <th>D_P_Completions</th>\n",
              "      <th>D_P_Attempts</th>\n",
              "      <th>D_P_Yards</th>\n",
              "      <th>D_P_TD</th>\n",
              "      <th>D_P_Int</th>\n",
              "      <th>D_P_Y/PA</th>\n",
              "      <th>D_P_Passing_1st_D</th>\n",
              "      <th>D_R_Att</th>\n",
              "      <th>D_R_Yards</th>\n",
              "      <th>D_R_TD</th>\n",
              "      <th>D_R_Y/A</th>\n",
              "      <th>D_R_1st_D</th>\n",
              "      <th>D_Pe</th>\n",
              "      <th>D_Pe_Yards</th>\n",
              "      <th>D_Pe_1st_D</th>\n",
              "      <th>D_Scoring_Drives</th>\n",
              "      <th>D_TD_%</th>\n",
              "      <th>D_Expected_Points</th>\n",
              "    </tr>\n",
              "  </thead>\n",
              "  <tbody>\n",
              "    <tr>\n",
              "      <th>0</th>\n",
              "      <td>1</td>\n",
              "      <td>Green Bay Packers</td>\n",
              "      <td>16</td>\n",
              "      <td>509</td>\n",
              "      <td>6224</td>\n",
              "      <td>990</td>\n",
              "      <td>6.3</td>\n",
              "      <td>11</td>\n",
              "      <td>6</td>\n",
              "      <td>358</td>\n",
              "      <td>372</td>\n",
              "      <td>526</td>\n",
              "      <td>4106</td>\n",
              "      <td>48</td>\n",
              "      <td>5</td>\n",
              "      <td>7.5</td>\n",
              "      <td>216</td>\n",
              "      <td>443</td>\n",
              "      <td>2118</td>\n",
              "      <td>16</td>\n",
              "      <td>4.8</td>\n",
              "      <td>114</td>\n",
              "      <td>84</td>\n",
              "      <td>684</td>\n",
              "      <td>28</td>\n",
              "      <td>49.7</td>\n",
              "      <td>5.6</td>\n",
              "      <td>290.75</td>\n",
              "      <td>2020</td>\n",
              "      <td>13</td>\n",
              "      <td>16</td>\n",
              "      <td>369</td>\n",
              "      <td>5344</td>\n",
              "      <td>974</td>\n",
              "      <td>5.5</td>\n",
              "      <td>18</td>\n",
              "      <td>7</td>\n",
              "      <td>332</td>\n",
              "      <td>346</td>\n",
              "      <td>536</td>\n",
              "      <td>3539</td>\n",
              "      <td>23</td>\n",
              "      <td>11</td>\n",
              "      <td>6.1</td>\n",
              "      <td>184</td>\n",
              "      <td>397</td>\n",
              "      <td>1805</td>\n",
              "      <td>16</td>\n",
              "      <td>4.5</td>\n",
              "      <td>119</td>\n",
              "      <td>79</td>\n",
              "      <td>734</td>\n",
              "      <td>29</td>\n",
              "      <td>39.9</td>\n",
              "      <td>11.4</td>\n",
              "      <td>-109.67</td>\n",
              "    </tr>\n",
              "    <tr>\n",
              "      <th>1</th>\n",
              "      <td>2</td>\n",
              "      <td>Buffalo Bills</td>\n",
              "      <td>16</td>\n",
              "      <td>501</td>\n",
              "      <td>6343</td>\n",
              "      <td>1034</td>\n",
              "      <td>6.1</td>\n",
              "      <td>22</td>\n",
              "      <td>11</td>\n",
              "      <td>397</td>\n",
              "      <td>410</td>\n",
              "      <td>596</td>\n",
              "      <td>4620</td>\n",
              "      <td>40</td>\n",
              "      <td>11</td>\n",
              "      <td>7.4</td>\n",
              "      <td>240</td>\n",
              "      <td>411</td>\n",
              "      <td>1723</td>\n",
              "      <td>16</td>\n",
              "      <td>4.2</td>\n",
              "      <td>119</td>\n",
              "      <td>102</td>\n",
              "      <td>941</td>\n",
              "      <td>38</td>\n",
              "      <td>49.4</td>\n",
              "      <td>11.8</td>\n",
              "      <td>228.66</td>\n",
              "      <td>2020</td>\n",
              "      <td>16</td>\n",
              "      <td>16</td>\n",
              "      <td>375</td>\n",
              "      <td>5640</td>\n",
              "      <td>1025</td>\n",
              "      <td>5.5</td>\n",
              "      <td>26</td>\n",
              "      <td>11</td>\n",
              "      <td>351</td>\n",
              "      <td>369</td>\n",
              "      <td>573</td>\n",
              "      <td>3726</td>\n",
              "      <td>23</td>\n",
              "      <td>15</td>\n",
              "      <td>6.1</td>\n",
              "      <td>199</td>\n",
              "      <td>414</td>\n",
              "      <td>1914</td>\n",
              "      <td>21</td>\n",
              "      <td>4.6</td>\n",
              "      <td>125</td>\n",
              "      <td>86</td>\n",
              "      <td>728</td>\n",
              "      <td>27</td>\n",
              "      <td>39.4</td>\n",
              "      <td>15.3</td>\n",
              "      <td>-123.10</td>\n",
              "    </tr>\n",
              "    <tr>\n",
              "      <th>2</th>\n",
              "      <td>3</td>\n",
              "      <td>Tampa Bay Buccaneers</td>\n",
              "      <td>16</td>\n",
              "      <td>492</td>\n",
              "      <td>6145</td>\n",
              "      <td>1017</td>\n",
              "      <td>6.0</td>\n",
              "      <td>17</td>\n",
              "      <td>5</td>\n",
              "      <td>364</td>\n",
              "      <td>410</td>\n",
              "      <td>626</td>\n",
              "      <td>4626</td>\n",
              "      <td>42</td>\n",
              "      <td>12</td>\n",
              "      <td>7.1</td>\n",
              "      <td>238</td>\n",
              "      <td>369</td>\n",
              "      <td>1519</td>\n",
              "      <td>16</td>\n",
              "      <td>4.1</td>\n",
              "      <td>82</td>\n",
              "      <td>84</td>\n",
              "      <td>715</td>\n",
              "      <td>44</td>\n",
              "      <td>47.8</td>\n",
              "      <td>8.9</td>\n",
              "      <td>246.24</td>\n",
              "      <td>2020</td>\n",
              "      <td>8</td>\n",
              "      <td>16</td>\n",
              "      <td>355</td>\n",
              "      <td>5234</td>\n",
              "      <td>1023</td>\n",
              "      <td>5.1</td>\n",
              "      <td>25</td>\n",
              "      <td>10</td>\n",
              "      <td>319</td>\n",
              "      <td>426</td>\n",
              "      <td>617</td>\n",
              "      <td>3945</td>\n",
              "      <td>29</td>\n",
              "      <td>15</td>\n",
              "      <td>5.9</td>\n",
              "      <td>215</td>\n",
              "      <td>358</td>\n",
              "      <td>1289</td>\n",
              "      <td>10</td>\n",
              "      <td>3.6</td>\n",
              "      <td>78</td>\n",
              "      <td>95</td>\n",
              "      <td>1015</td>\n",
              "      <td>26</td>\n",
              "      <td>33.7</td>\n",
              "      <td>14.0</td>\n",
              "      <td>-22.04</td>\n",
              "    </tr>\n",
              "    <tr>\n",
              "      <th>3</th>\n",
              "      <td>4</td>\n",
              "      <td>Tennessee Titans</td>\n",
              "      <td>16</td>\n",
              "      <td>491</td>\n",
              "      <td>6343</td>\n",
              "      <td>1031</td>\n",
              "      <td>6.2</td>\n",
              "      <td>12</td>\n",
              "      <td>5</td>\n",
              "      <td>381</td>\n",
              "      <td>316</td>\n",
              "      <td>485</td>\n",
              "      <td>3653</td>\n",
              "      <td>33</td>\n",
              "      <td>7</td>\n",
              "      <td>7.2</td>\n",
              "      <td>203</td>\n",
              "      <td>521</td>\n",
              "      <td>2690</td>\n",
              "      <td>26</td>\n",
              "      <td>5.2</td>\n",
              "      <td>142</td>\n",
              "      <td>86</td>\n",
              "      <td>783</td>\n",
              "      <td>36</td>\n",
              "      <td>47.9</td>\n",
              "      <td>7.2</td>\n",
              "      <td>245.01</td>\n",
              "      <td>2020</td>\n",
              "      <td>24</td>\n",
              "      <td>16</td>\n",
              "      <td>439</td>\n",
              "      <td>6372</td>\n",
              "      <td>1076</td>\n",
              "      <td>5.9</td>\n",
              "      <td>23</td>\n",
              "      <td>8</td>\n",
              "      <td>391</td>\n",
              "      <td>423</td>\n",
              "      <td>630</td>\n",
              "      <td>4439</td>\n",
              "      <td>36</td>\n",
              "      <td>15</td>\n",
              "      <td>6.8</td>\n",
              "      <td>247</td>\n",
              "      <td>427</td>\n",
              "      <td>1933</td>\n",
              "      <td>18</td>\n",
              "      <td>4.5</td>\n",
              "      <td>113</td>\n",
              "      <td>103</td>\n",
              "      <td>840</td>\n",
              "      <td>31</td>\n",
              "      <td>45.2</td>\n",
              "      <td>13.3</td>\n",
              "      <td>-185.20</td>\n",
              "    </tr>\n",
              "    <tr>\n",
              "      <th>4</th>\n",
              "      <td>5</td>\n",
              "      <td>New Orleans Saints</td>\n",
              "      <td>16</td>\n",
              "      <td>482</td>\n",
              "      <td>6023</td>\n",
              "      <td>1045</td>\n",
              "      <td>5.8</td>\n",
              "      <td>17</td>\n",
              "      <td>9</td>\n",
              "      <td>367</td>\n",
              "      <td>370</td>\n",
              "      <td>522</td>\n",
              "      <td>3758</td>\n",
              "      <td>28</td>\n",
              "      <td>8</td>\n",
              "      <td>6.8</td>\n",
              "      <td>199</td>\n",
              "      <td>494</td>\n",
              "      <td>2265</td>\n",
              "      <td>30</td>\n",
              "      <td>4.6</td>\n",
              "      <td>147</td>\n",
              "      <td>98</td>\n",
              "      <td>1005</td>\n",
              "      <td>21</td>\n",
              "      <td>45.5</td>\n",
              "      <td>9.0</td>\n",
              "      <td>176.94</td>\n",
              "      <td>2020</td>\n",
              "      <td>5</td>\n",
              "      <td>16</td>\n",
              "      <td>337</td>\n",
              "      <td>4974</td>\n",
              "      <td>992</td>\n",
              "      <td>5.0</td>\n",
              "      <td>26</td>\n",
              "      <td>8</td>\n",
              "      <td>320</td>\n",
              "      <td>333</td>\n",
              "      <td>557</td>\n",
              "      <td>3472</td>\n",
              "      <td>28</td>\n",
              "      <td>18</td>\n",
              "      <td>5.8</td>\n",
              "      <td>185</td>\n",
              "      <td>390</td>\n",
              "      <td>1502</td>\n",
              "      <td>11</td>\n",
              "      <td>3.9</td>\n",
              "      <td>85</td>\n",
              "      <td>64</td>\n",
              "      <td>517</td>\n",
              "      <td>50</td>\n",
              "      <td>34.7</td>\n",
              "      <td>13.1</td>\n",
              "      <td>-40.02</td>\n",
              "    </tr>\n",
              "  </tbody>\n",
              "</table>\n",
              "</div>"
            ],
            "text/plain": [
              "   O_Rank                  Team  ...  D_TD_%  D_Expected_Points\n",
              "0       1     Green Bay Packers  ...    11.4            -109.67\n",
              "1       2         Buffalo Bills  ...    15.3            -123.10\n",
              "2       3  Tampa Bay Buccaneers  ...    14.0             -22.04\n",
              "3       4      Tennessee Titans  ...    13.3            -185.20\n",
              "4       5    New Orleans Saints  ...    13.1             -40.02\n",
              "\n",
              "[5 rows x 56 columns]"
            ]
          },
          "metadata": {
            "tags": []
          },
          "execution_count": 7
        }
      ]
    },
    {
      "cell_type": "code",
      "metadata": {
        "colab": {
          "base_uri": "https://localhost:8080/",
          "height": 202
        },
        "id": "jkQyzIW7ppue",
        "outputId": "e172582f-c805-4e88-dc0e-e85c555634b1"
      },
      "source": [
        "sb_winner.head()"
      ],
      "execution_count": 8,
      "outputs": [
        {
          "output_type": "execute_result",
          "data": {
            "text/html": [
              "<div>\n",
              "<style scoped>\n",
              "    .dataframe tbody tr th:only-of-type {\n",
              "        vertical-align: middle;\n",
              "    }\n",
              "\n",
              "    .dataframe tbody tr th {\n",
              "        vertical-align: top;\n",
              "    }\n",
              "\n",
              "    .dataframe thead th {\n",
              "        text-align: right;\n",
              "    }\n",
              "</style>\n",
              "<table border=\"1\" class=\"dataframe\">\n",
              "  <thead>\n",
              "    <tr style=\"text-align: right;\">\n",
              "      <th></th>\n",
              "      <th>Date</th>\n",
              "      <th>SB</th>\n",
              "      <th>Winner</th>\n",
              "      <th>Pts</th>\n",
              "      <th>Loser</th>\n",
              "      <th>Pts.1</th>\n",
              "      <th>MVP</th>\n",
              "      <th>Stadium</th>\n",
              "      <th>City</th>\n",
              "      <th>State</th>\n",
              "    </tr>\n",
              "  </thead>\n",
              "  <tbody>\n",
              "    <tr>\n",
              "      <th>0</th>\n",
              "      <td>Feb 7 2021</td>\n",
              "      <td>55</td>\n",
              "      <td>Tampa Bay Buccaneers</td>\n",
              "      <td>31</td>\n",
              "      <td>Kansas City Chiefs</td>\n",
              "      <td>9</td>\n",
              "      <td>Tom Brady</td>\n",
              "      <td>Raymond James Stadium</td>\n",
              "      <td>Tampa</td>\n",
              "      <td>Florida</td>\n",
              "    </tr>\n",
              "    <tr>\n",
              "      <th>1</th>\n",
              "      <td>Feb 2 2020</td>\n",
              "      <td>54</td>\n",
              "      <td>Kansas City Chiefs</td>\n",
              "      <td>31</td>\n",
              "      <td>San Francisco 49ers</td>\n",
              "      <td>20</td>\n",
              "      <td>Patrick Mahomes</td>\n",
              "      <td>Hard Rock Stadium</td>\n",
              "      <td>Miami Gardens</td>\n",
              "      <td>Florida</td>\n",
              "    </tr>\n",
              "    <tr>\n",
              "      <th>2</th>\n",
              "      <td>Feb 3 2019</td>\n",
              "      <td>53</td>\n",
              "      <td>New England Patriots</td>\n",
              "      <td>13</td>\n",
              "      <td>Los Angeles Rams</td>\n",
              "      <td>3</td>\n",
              "      <td>Julian Edelman</td>\n",
              "      <td>Mercedes-Benz Stadium</td>\n",
              "      <td>Atlanta</td>\n",
              "      <td>Georgia</td>\n",
              "    </tr>\n",
              "    <tr>\n",
              "      <th>3</th>\n",
              "      <td>Feb 4 2018</td>\n",
              "      <td>52</td>\n",
              "      <td>Philadelphia Eagles</td>\n",
              "      <td>41</td>\n",
              "      <td>New England Patriots</td>\n",
              "      <td>33</td>\n",
              "      <td>Nick Foles</td>\n",
              "      <td>U.S. Bank Stadium</td>\n",
              "      <td>Minneapolis</td>\n",
              "      <td>Minnesota</td>\n",
              "    </tr>\n",
              "    <tr>\n",
              "      <th>4</th>\n",
              "      <td>Feb 5 2017</td>\n",
              "      <td>51</td>\n",
              "      <td>New England Patriots</td>\n",
              "      <td>34</td>\n",
              "      <td>Atlanta Falcons</td>\n",
              "      <td>28</td>\n",
              "      <td>Tom Brady</td>\n",
              "      <td>NRG Stadium</td>\n",
              "      <td>Houston</td>\n",
              "      <td>Texas</td>\n",
              "    </tr>\n",
              "  </tbody>\n",
              "</table>\n",
              "</div>"
            ],
            "text/plain": [
              "         Date  SB  ...           City      State\n",
              "0  Feb 7 2021  55  ...          Tampa    Florida\n",
              "1  Feb 2 2020  54  ...  Miami Gardens    Florida\n",
              "2  Feb 3 2019  53  ...        Atlanta    Georgia\n",
              "3  Feb 4 2018  52  ...    Minneapolis  Minnesota\n",
              "4  Feb 5 2017  51  ...        Houston      Texas\n",
              "\n",
              "[5 rows x 10 columns]"
            ]
          },
          "metadata": {
            "tags": []
          },
          "execution_count": 8
        }
      ]
    },
    {
      "cell_type": "code",
      "metadata": {
        "colab": {
          "base_uri": "https://localhost:8080/",
          "height": 202
        },
        "id": "yYwd5HRppxOt",
        "outputId": "fcbcabff-1025-46fe-ec8a-0134f1b18b12"
      },
      "source": [
        "# format date to year \n",
        "sb_winner.Date = pd.to_datetime(sb_winner.Date)\n",
        "sb_winner['Year'] = pd.DatetimeIndex(sb_winner['Date']).year\n",
        "# new DataFrame with year and winner\n",
        "sb_winner = sb_winner[['Year', 'Winner']]\n",
        "# minus 1 year - 2021 calendar year SB is for 2020 season\n",
        "sb_winner['Year'] = sb_winner['Year'] - 1\n",
        "# add Superbowl column with 1 \n",
        "sb_winner['Superbowl Winner'] = 1\n",
        "\n",
        "sb_winner.head()"
      ],
      "execution_count": 9,
      "outputs": [
        {
          "output_type": "execute_result",
          "data": {
            "text/html": [
              "<div>\n",
              "<style scoped>\n",
              "    .dataframe tbody tr th:only-of-type {\n",
              "        vertical-align: middle;\n",
              "    }\n",
              "\n",
              "    .dataframe tbody tr th {\n",
              "        vertical-align: top;\n",
              "    }\n",
              "\n",
              "    .dataframe thead th {\n",
              "        text-align: right;\n",
              "    }\n",
              "</style>\n",
              "<table border=\"1\" class=\"dataframe\">\n",
              "  <thead>\n",
              "    <tr style=\"text-align: right;\">\n",
              "      <th></th>\n",
              "      <th>Year</th>\n",
              "      <th>Winner</th>\n",
              "      <th>Superbowl Winner</th>\n",
              "    </tr>\n",
              "  </thead>\n",
              "  <tbody>\n",
              "    <tr>\n",
              "      <th>0</th>\n",
              "      <td>2020</td>\n",
              "      <td>Tampa Bay Buccaneers</td>\n",
              "      <td>1</td>\n",
              "    </tr>\n",
              "    <tr>\n",
              "      <th>1</th>\n",
              "      <td>2019</td>\n",
              "      <td>Kansas City Chiefs</td>\n",
              "      <td>1</td>\n",
              "    </tr>\n",
              "    <tr>\n",
              "      <th>2</th>\n",
              "      <td>2018</td>\n",
              "      <td>New England Patriots</td>\n",
              "      <td>1</td>\n",
              "    </tr>\n",
              "    <tr>\n",
              "      <th>3</th>\n",
              "      <td>2017</td>\n",
              "      <td>Philadelphia Eagles</td>\n",
              "      <td>1</td>\n",
              "    </tr>\n",
              "    <tr>\n",
              "      <th>4</th>\n",
              "      <td>2016</td>\n",
              "      <td>New England Patriots</td>\n",
              "      <td>1</td>\n",
              "    </tr>\n",
              "  </tbody>\n",
              "</table>\n",
              "</div>"
            ],
            "text/plain": [
              "   Year                Winner  Superbowl Winner\n",
              "0  2020  Tampa Bay Buccaneers                 1\n",
              "1  2019    Kansas City Chiefs                 1\n",
              "2  2018  New England Patriots                 1\n",
              "3  2017   Philadelphia Eagles                 1\n",
              "4  2016  New England Patriots                 1"
            ]
          },
          "metadata": {
            "tags": []
          },
          "execution_count": 9
        }
      ]
    },
    {
      "cell_type": "code",
      "metadata": {
        "colab": {
          "base_uri": "https://localhost:8080/",
          "height": 322
        },
        "id": "oDVWrpSLsgo-",
        "outputId": "67f37c42-623c-4cc8-bdd3-7a0be27bafb5"
      },
      "source": [
        "# merge superbowl winner to off_def df\n",
        "data = pd.merge(off_def, sb_winner, left_on = ['Year', 'Team'], right_on = ['Year', 'Winner'], how = 'left' )\n",
        "\n",
        "data['Superbowl Winner'].value_counts()\n",
        "\n",
        "data['Superbowl Winner'].replace(to_replace=np.NaN, value=0, inplace=True)\n",
        "data.drop(columns='Winner', inplace=True)\n",
        "\n",
        "data['Superbowl Winner'].value_counts()\n",
        "data.head()"
      ],
      "execution_count": 10,
      "outputs": [
        {
          "output_type": "execute_result",
          "data": {
            "text/html": [
              "<div>\n",
              "<style scoped>\n",
              "    .dataframe tbody tr th:only-of-type {\n",
              "        vertical-align: middle;\n",
              "    }\n",
              "\n",
              "    .dataframe tbody tr th {\n",
              "        vertical-align: top;\n",
              "    }\n",
              "\n",
              "    .dataframe thead th {\n",
              "        text-align: right;\n",
              "    }\n",
              "</style>\n",
              "<table border=\"1\" class=\"dataframe\">\n",
              "  <thead>\n",
              "    <tr style=\"text-align: right;\">\n",
              "      <th></th>\n",
              "      <th>O_Rank</th>\n",
              "      <th>Team</th>\n",
              "      <th>O_Games_Played</th>\n",
              "      <th>O_Points_For</th>\n",
              "      <th>O_Total_Yards</th>\n",
              "      <th>O_Plays</th>\n",
              "      <th>O_Y/Play</th>\n",
              "      <th>O_TO</th>\n",
              "      <th>O_Fumbles_Lost</th>\n",
              "      <th>O_1st_D</th>\n",
              "      <th>O_P_Completions</th>\n",
              "      <th>O_P_Attempts</th>\n",
              "      <th>O_P_Yards</th>\n",
              "      <th>O_P_TD</th>\n",
              "      <th>O_P_Int</th>\n",
              "      <th>O_P_Y/PA</th>\n",
              "      <th>O_P_Passing_1st_D</th>\n",
              "      <th>O_R_Att</th>\n",
              "      <th>O_R_Yards</th>\n",
              "      <th>O_R_TD</th>\n",
              "      <th>O_R_Y/A</th>\n",
              "      <th>O_R_1st_D</th>\n",
              "      <th>O_Pe</th>\n",
              "      <th>O_Pe_Yards</th>\n",
              "      <th>O_Pe_1st_D</th>\n",
              "      <th>O_Scoring_Drives</th>\n",
              "      <th>O_TO_%</th>\n",
              "      <th>O_Expected_Points</th>\n",
              "      <th>Year</th>\n",
              "      <th>D_Rank</th>\n",
              "      <th>D_Games_Played</th>\n",
              "      <th>D_Points_Allowed</th>\n",
              "      <th>D_Total_Yards</th>\n",
              "      <th>D_Plays</th>\n",
              "      <th>D_Y/Play</th>\n",
              "      <th>D_TD</th>\n",
              "      <th>D_Fumbles_Lost</th>\n",
              "      <th>D_1st_D</th>\n",
              "      <th>D_P_Completions</th>\n",
              "      <th>D_P_Attempts</th>\n",
              "      <th>D_P_Yards</th>\n",
              "      <th>D_P_TD</th>\n",
              "      <th>D_P_Int</th>\n",
              "      <th>D_P_Y/PA</th>\n",
              "      <th>D_P_Passing_1st_D</th>\n",
              "      <th>D_R_Att</th>\n",
              "      <th>D_R_Yards</th>\n",
              "      <th>D_R_TD</th>\n",
              "      <th>D_R_Y/A</th>\n",
              "      <th>D_R_1st_D</th>\n",
              "      <th>D_Pe</th>\n",
              "      <th>D_Pe_Yards</th>\n",
              "      <th>D_Pe_1st_D</th>\n",
              "      <th>D_Scoring_Drives</th>\n",
              "      <th>D_TD_%</th>\n",
              "      <th>D_Expected_Points</th>\n",
              "      <th>Superbowl Winner</th>\n",
              "    </tr>\n",
              "  </thead>\n",
              "  <tbody>\n",
              "    <tr>\n",
              "      <th>0</th>\n",
              "      <td>1</td>\n",
              "      <td>Green Bay Packers</td>\n",
              "      <td>16</td>\n",
              "      <td>509</td>\n",
              "      <td>6224</td>\n",
              "      <td>990</td>\n",
              "      <td>6.3</td>\n",
              "      <td>11</td>\n",
              "      <td>6</td>\n",
              "      <td>358</td>\n",
              "      <td>372</td>\n",
              "      <td>526</td>\n",
              "      <td>4106</td>\n",
              "      <td>48</td>\n",
              "      <td>5</td>\n",
              "      <td>7.5</td>\n",
              "      <td>216</td>\n",
              "      <td>443</td>\n",
              "      <td>2118</td>\n",
              "      <td>16</td>\n",
              "      <td>4.8</td>\n",
              "      <td>114</td>\n",
              "      <td>84</td>\n",
              "      <td>684</td>\n",
              "      <td>28</td>\n",
              "      <td>49.7</td>\n",
              "      <td>5.6</td>\n",
              "      <td>290.75</td>\n",
              "      <td>2020</td>\n",
              "      <td>13</td>\n",
              "      <td>16</td>\n",
              "      <td>369</td>\n",
              "      <td>5344</td>\n",
              "      <td>974</td>\n",
              "      <td>5.5</td>\n",
              "      <td>18</td>\n",
              "      <td>7</td>\n",
              "      <td>332</td>\n",
              "      <td>346</td>\n",
              "      <td>536</td>\n",
              "      <td>3539</td>\n",
              "      <td>23</td>\n",
              "      <td>11</td>\n",
              "      <td>6.1</td>\n",
              "      <td>184</td>\n",
              "      <td>397</td>\n",
              "      <td>1805</td>\n",
              "      <td>16</td>\n",
              "      <td>4.5</td>\n",
              "      <td>119</td>\n",
              "      <td>79</td>\n",
              "      <td>734</td>\n",
              "      <td>29</td>\n",
              "      <td>39.9</td>\n",
              "      <td>11.4</td>\n",
              "      <td>-109.67</td>\n",
              "      <td>0.0</td>\n",
              "    </tr>\n",
              "    <tr>\n",
              "      <th>1</th>\n",
              "      <td>2</td>\n",
              "      <td>Buffalo Bills</td>\n",
              "      <td>16</td>\n",
              "      <td>501</td>\n",
              "      <td>6343</td>\n",
              "      <td>1034</td>\n",
              "      <td>6.1</td>\n",
              "      <td>22</td>\n",
              "      <td>11</td>\n",
              "      <td>397</td>\n",
              "      <td>410</td>\n",
              "      <td>596</td>\n",
              "      <td>4620</td>\n",
              "      <td>40</td>\n",
              "      <td>11</td>\n",
              "      <td>7.4</td>\n",
              "      <td>240</td>\n",
              "      <td>411</td>\n",
              "      <td>1723</td>\n",
              "      <td>16</td>\n",
              "      <td>4.2</td>\n",
              "      <td>119</td>\n",
              "      <td>102</td>\n",
              "      <td>941</td>\n",
              "      <td>38</td>\n",
              "      <td>49.4</td>\n",
              "      <td>11.8</td>\n",
              "      <td>228.66</td>\n",
              "      <td>2020</td>\n",
              "      <td>16</td>\n",
              "      <td>16</td>\n",
              "      <td>375</td>\n",
              "      <td>5640</td>\n",
              "      <td>1025</td>\n",
              "      <td>5.5</td>\n",
              "      <td>26</td>\n",
              "      <td>11</td>\n",
              "      <td>351</td>\n",
              "      <td>369</td>\n",
              "      <td>573</td>\n",
              "      <td>3726</td>\n",
              "      <td>23</td>\n",
              "      <td>15</td>\n",
              "      <td>6.1</td>\n",
              "      <td>199</td>\n",
              "      <td>414</td>\n",
              "      <td>1914</td>\n",
              "      <td>21</td>\n",
              "      <td>4.6</td>\n",
              "      <td>125</td>\n",
              "      <td>86</td>\n",
              "      <td>728</td>\n",
              "      <td>27</td>\n",
              "      <td>39.4</td>\n",
              "      <td>15.3</td>\n",
              "      <td>-123.10</td>\n",
              "      <td>0.0</td>\n",
              "    </tr>\n",
              "    <tr>\n",
              "      <th>2</th>\n",
              "      <td>3</td>\n",
              "      <td>Tampa Bay Buccaneers</td>\n",
              "      <td>16</td>\n",
              "      <td>492</td>\n",
              "      <td>6145</td>\n",
              "      <td>1017</td>\n",
              "      <td>6.0</td>\n",
              "      <td>17</td>\n",
              "      <td>5</td>\n",
              "      <td>364</td>\n",
              "      <td>410</td>\n",
              "      <td>626</td>\n",
              "      <td>4626</td>\n",
              "      <td>42</td>\n",
              "      <td>12</td>\n",
              "      <td>7.1</td>\n",
              "      <td>238</td>\n",
              "      <td>369</td>\n",
              "      <td>1519</td>\n",
              "      <td>16</td>\n",
              "      <td>4.1</td>\n",
              "      <td>82</td>\n",
              "      <td>84</td>\n",
              "      <td>715</td>\n",
              "      <td>44</td>\n",
              "      <td>47.8</td>\n",
              "      <td>8.9</td>\n",
              "      <td>246.24</td>\n",
              "      <td>2020</td>\n",
              "      <td>8</td>\n",
              "      <td>16</td>\n",
              "      <td>355</td>\n",
              "      <td>5234</td>\n",
              "      <td>1023</td>\n",
              "      <td>5.1</td>\n",
              "      <td>25</td>\n",
              "      <td>10</td>\n",
              "      <td>319</td>\n",
              "      <td>426</td>\n",
              "      <td>617</td>\n",
              "      <td>3945</td>\n",
              "      <td>29</td>\n",
              "      <td>15</td>\n",
              "      <td>5.9</td>\n",
              "      <td>215</td>\n",
              "      <td>358</td>\n",
              "      <td>1289</td>\n",
              "      <td>10</td>\n",
              "      <td>3.6</td>\n",
              "      <td>78</td>\n",
              "      <td>95</td>\n",
              "      <td>1015</td>\n",
              "      <td>26</td>\n",
              "      <td>33.7</td>\n",
              "      <td>14.0</td>\n",
              "      <td>-22.04</td>\n",
              "      <td>1.0</td>\n",
              "    </tr>\n",
              "    <tr>\n",
              "      <th>3</th>\n",
              "      <td>4</td>\n",
              "      <td>Tennessee Titans</td>\n",
              "      <td>16</td>\n",
              "      <td>491</td>\n",
              "      <td>6343</td>\n",
              "      <td>1031</td>\n",
              "      <td>6.2</td>\n",
              "      <td>12</td>\n",
              "      <td>5</td>\n",
              "      <td>381</td>\n",
              "      <td>316</td>\n",
              "      <td>485</td>\n",
              "      <td>3653</td>\n",
              "      <td>33</td>\n",
              "      <td>7</td>\n",
              "      <td>7.2</td>\n",
              "      <td>203</td>\n",
              "      <td>521</td>\n",
              "      <td>2690</td>\n",
              "      <td>26</td>\n",
              "      <td>5.2</td>\n",
              "      <td>142</td>\n",
              "      <td>86</td>\n",
              "      <td>783</td>\n",
              "      <td>36</td>\n",
              "      <td>47.9</td>\n",
              "      <td>7.2</td>\n",
              "      <td>245.01</td>\n",
              "      <td>2020</td>\n",
              "      <td>24</td>\n",
              "      <td>16</td>\n",
              "      <td>439</td>\n",
              "      <td>6372</td>\n",
              "      <td>1076</td>\n",
              "      <td>5.9</td>\n",
              "      <td>23</td>\n",
              "      <td>8</td>\n",
              "      <td>391</td>\n",
              "      <td>423</td>\n",
              "      <td>630</td>\n",
              "      <td>4439</td>\n",
              "      <td>36</td>\n",
              "      <td>15</td>\n",
              "      <td>6.8</td>\n",
              "      <td>247</td>\n",
              "      <td>427</td>\n",
              "      <td>1933</td>\n",
              "      <td>18</td>\n",
              "      <td>4.5</td>\n",
              "      <td>113</td>\n",
              "      <td>103</td>\n",
              "      <td>840</td>\n",
              "      <td>31</td>\n",
              "      <td>45.2</td>\n",
              "      <td>13.3</td>\n",
              "      <td>-185.20</td>\n",
              "      <td>0.0</td>\n",
              "    </tr>\n",
              "    <tr>\n",
              "      <th>4</th>\n",
              "      <td>5</td>\n",
              "      <td>New Orleans Saints</td>\n",
              "      <td>16</td>\n",
              "      <td>482</td>\n",
              "      <td>6023</td>\n",
              "      <td>1045</td>\n",
              "      <td>5.8</td>\n",
              "      <td>17</td>\n",
              "      <td>9</td>\n",
              "      <td>367</td>\n",
              "      <td>370</td>\n",
              "      <td>522</td>\n",
              "      <td>3758</td>\n",
              "      <td>28</td>\n",
              "      <td>8</td>\n",
              "      <td>6.8</td>\n",
              "      <td>199</td>\n",
              "      <td>494</td>\n",
              "      <td>2265</td>\n",
              "      <td>30</td>\n",
              "      <td>4.6</td>\n",
              "      <td>147</td>\n",
              "      <td>98</td>\n",
              "      <td>1005</td>\n",
              "      <td>21</td>\n",
              "      <td>45.5</td>\n",
              "      <td>9.0</td>\n",
              "      <td>176.94</td>\n",
              "      <td>2020</td>\n",
              "      <td>5</td>\n",
              "      <td>16</td>\n",
              "      <td>337</td>\n",
              "      <td>4974</td>\n",
              "      <td>992</td>\n",
              "      <td>5.0</td>\n",
              "      <td>26</td>\n",
              "      <td>8</td>\n",
              "      <td>320</td>\n",
              "      <td>333</td>\n",
              "      <td>557</td>\n",
              "      <td>3472</td>\n",
              "      <td>28</td>\n",
              "      <td>18</td>\n",
              "      <td>5.8</td>\n",
              "      <td>185</td>\n",
              "      <td>390</td>\n",
              "      <td>1502</td>\n",
              "      <td>11</td>\n",
              "      <td>3.9</td>\n",
              "      <td>85</td>\n",
              "      <td>64</td>\n",
              "      <td>517</td>\n",
              "      <td>50</td>\n",
              "      <td>34.7</td>\n",
              "      <td>13.1</td>\n",
              "      <td>-40.02</td>\n",
              "      <td>0.0</td>\n",
              "    </tr>\n",
              "  </tbody>\n",
              "</table>\n",
              "</div>"
            ],
            "text/plain": [
              "   O_Rank                  Team  ...  D_Expected_Points  Superbowl Winner\n",
              "0       1     Green Bay Packers  ...            -109.67               0.0\n",
              "1       2         Buffalo Bills  ...            -123.10               0.0\n",
              "2       3  Tampa Bay Buccaneers  ...             -22.04               1.0\n",
              "3       4      Tennessee Titans  ...            -185.20               0.0\n",
              "4       5    New Orleans Saints  ...             -40.02               0.0\n",
              "\n",
              "[5 rows x 57 columns]"
            ]
          },
          "metadata": {
            "tags": []
          },
          "execution_count": 10
        }
      ]
    },
    {
      "cell_type": "code",
      "metadata": {
        "colab": {
          "base_uri": "https://localhost:8080/"
        },
        "id": "vtdJkVAw0AEl",
        "outputId": "45547d14-15f2-497f-ca52-5af7f3f96cea"
      },
      "source": [
        "sb_winner['Superbowl Winner'].value_counts()"
      ],
      "execution_count": 11,
      "outputs": [
        {
          "output_type": "execute_result",
          "data": {
            "text/plain": [
              "1    55\n",
              "Name: Superbowl Winner, dtype: int64"
            ]
          },
          "metadata": {
            "tags": []
          },
          "execution_count": 11
        }
      ]
    },
    {
      "cell_type": "code",
      "metadata": {
        "colab": {
          "base_uri": "https://localhost:8080/",
          "height": 322
        },
        "id": "18oEb4hvpUQj",
        "outputId": "94831b37-4ceb-4d21-922e-79c6c1ff6d7c"
      },
      "source": [
        "combine_file = pd.DataFrame(data)\n",
        "combine_file.head()"
      ],
      "execution_count": 12,
      "outputs": [
        {
          "output_type": "execute_result",
          "data": {
            "text/html": [
              "<div>\n",
              "<style scoped>\n",
              "    .dataframe tbody tr th:only-of-type {\n",
              "        vertical-align: middle;\n",
              "    }\n",
              "\n",
              "    .dataframe tbody tr th {\n",
              "        vertical-align: top;\n",
              "    }\n",
              "\n",
              "    .dataframe thead th {\n",
              "        text-align: right;\n",
              "    }\n",
              "</style>\n",
              "<table border=\"1\" class=\"dataframe\">\n",
              "  <thead>\n",
              "    <tr style=\"text-align: right;\">\n",
              "      <th></th>\n",
              "      <th>O_Rank</th>\n",
              "      <th>Team</th>\n",
              "      <th>O_Games_Played</th>\n",
              "      <th>O_Points_For</th>\n",
              "      <th>O_Total_Yards</th>\n",
              "      <th>O_Plays</th>\n",
              "      <th>O_Y/Play</th>\n",
              "      <th>O_TO</th>\n",
              "      <th>O_Fumbles_Lost</th>\n",
              "      <th>O_1st_D</th>\n",
              "      <th>O_P_Completions</th>\n",
              "      <th>O_P_Attempts</th>\n",
              "      <th>O_P_Yards</th>\n",
              "      <th>O_P_TD</th>\n",
              "      <th>O_P_Int</th>\n",
              "      <th>O_P_Y/PA</th>\n",
              "      <th>O_P_Passing_1st_D</th>\n",
              "      <th>O_R_Att</th>\n",
              "      <th>O_R_Yards</th>\n",
              "      <th>O_R_TD</th>\n",
              "      <th>O_R_Y/A</th>\n",
              "      <th>O_R_1st_D</th>\n",
              "      <th>O_Pe</th>\n",
              "      <th>O_Pe_Yards</th>\n",
              "      <th>O_Pe_1st_D</th>\n",
              "      <th>O_Scoring_Drives</th>\n",
              "      <th>O_TO_%</th>\n",
              "      <th>O_Expected_Points</th>\n",
              "      <th>Year</th>\n",
              "      <th>D_Rank</th>\n",
              "      <th>D_Games_Played</th>\n",
              "      <th>D_Points_Allowed</th>\n",
              "      <th>D_Total_Yards</th>\n",
              "      <th>D_Plays</th>\n",
              "      <th>D_Y/Play</th>\n",
              "      <th>D_TD</th>\n",
              "      <th>D_Fumbles_Lost</th>\n",
              "      <th>D_1st_D</th>\n",
              "      <th>D_P_Completions</th>\n",
              "      <th>D_P_Attempts</th>\n",
              "      <th>D_P_Yards</th>\n",
              "      <th>D_P_TD</th>\n",
              "      <th>D_P_Int</th>\n",
              "      <th>D_P_Y/PA</th>\n",
              "      <th>D_P_Passing_1st_D</th>\n",
              "      <th>D_R_Att</th>\n",
              "      <th>D_R_Yards</th>\n",
              "      <th>D_R_TD</th>\n",
              "      <th>D_R_Y/A</th>\n",
              "      <th>D_R_1st_D</th>\n",
              "      <th>D_Pe</th>\n",
              "      <th>D_Pe_Yards</th>\n",
              "      <th>D_Pe_1st_D</th>\n",
              "      <th>D_Scoring_Drives</th>\n",
              "      <th>D_TD_%</th>\n",
              "      <th>D_Expected_Points</th>\n",
              "      <th>Superbowl Winner</th>\n",
              "    </tr>\n",
              "  </thead>\n",
              "  <tbody>\n",
              "    <tr>\n",
              "      <th>0</th>\n",
              "      <td>1</td>\n",
              "      <td>Green Bay Packers</td>\n",
              "      <td>16</td>\n",
              "      <td>509</td>\n",
              "      <td>6224</td>\n",
              "      <td>990</td>\n",
              "      <td>6.3</td>\n",
              "      <td>11</td>\n",
              "      <td>6</td>\n",
              "      <td>358</td>\n",
              "      <td>372</td>\n",
              "      <td>526</td>\n",
              "      <td>4106</td>\n",
              "      <td>48</td>\n",
              "      <td>5</td>\n",
              "      <td>7.5</td>\n",
              "      <td>216</td>\n",
              "      <td>443</td>\n",
              "      <td>2118</td>\n",
              "      <td>16</td>\n",
              "      <td>4.8</td>\n",
              "      <td>114</td>\n",
              "      <td>84</td>\n",
              "      <td>684</td>\n",
              "      <td>28</td>\n",
              "      <td>49.7</td>\n",
              "      <td>5.6</td>\n",
              "      <td>290.75</td>\n",
              "      <td>2020</td>\n",
              "      <td>13</td>\n",
              "      <td>16</td>\n",
              "      <td>369</td>\n",
              "      <td>5344</td>\n",
              "      <td>974</td>\n",
              "      <td>5.5</td>\n",
              "      <td>18</td>\n",
              "      <td>7</td>\n",
              "      <td>332</td>\n",
              "      <td>346</td>\n",
              "      <td>536</td>\n",
              "      <td>3539</td>\n",
              "      <td>23</td>\n",
              "      <td>11</td>\n",
              "      <td>6.1</td>\n",
              "      <td>184</td>\n",
              "      <td>397</td>\n",
              "      <td>1805</td>\n",
              "      <td>16</td>\n",
              "      <td>4.5</td>\n",
              "      <td>119</td>\n",
              "      <td>79</td>\n",
              "      <td>734</td>\n",
              "      <td>29</td>\n",
              "      <td>39.9</td>\n",
              "      <td>11.4</td>\n",
              "      <td>-109.67</td>\n",
              "      <td>0.0</td>\n",
              "    </tr>\n",
              "    <tr>\n",
              "      <th>1</th>\n",
              "      <td>2</td>\n",
              "      <td>Buffalo Bills</td>\n",
              "      <td>16</td>\n",
              "      <td>501</td>\n",
              "      <td>6343</td>\n",
              "      <td>1034</td>\n",
              "      <td>6.1</td>\n",
              "      <td>22</td>\n",
              "      <td>11</td>\n",
              "      <td>397</td>\n",
              "      <td>410</td>\n",
              "      <td>596</td>\n",
              "      <td>4620</td>\n",
              "      <td>40</td>\n",
              "      <td>11</td>\n",
              "      <td>7.4</td>\n",
              "      <td>240</td>\n",
              "      <td>411</td>\n",
              "      <td>1723</td>\n",
              "      <td>16</td>\n",
              "      <td>4.2</td>\n",
              "      <td>119</td>\n",
              "      <td>102</td>\n",
              "      <td>941</td>\n",
              "      <td>38</td>\n",
              "      <td>49.4</td>\n",
              "      <td>11.8</td>\n",
              "      <td>228.66</td>\n",
              "      <td>2020</td>\n",
              "      <td>16</td>\n",
              "      <td>16</td>\n",
              "      <td>375</td>\n",
              "      <td>5640</td>\n",
              "      <td>1025</td>\n",
              "      <td>5.5</td>\n",
              "      <td>26</td>\n",
              "      <td>11</td>\n",
              "      <td>351</td>\n",
              "      <td>369</td>\n",
              "      <td>573</td>\n",
              "      <td>3726</td>\n",
              "      <td>23</td>\n",
              "      <td>15</td>\n",
              "      <td>6.1</td>\n",
              "      <td>199</td>\n",
              "      <td>414</td>\n",
              "      <td>1914</td>\n",
              "      <td>21</td>\n",
              "      <td>4.6</td>\n",
              "      <td>125</td>\n",
              "      <td>86</td>\n",
              "      <td>728</td>\n",
              "      <td>27</td>\n",
              "      <td>39.4</td>\n",
              "      <td>15.3</td>\n",
              "      <td>-123.10</td>\n",
              "      <td>0.0</td>\n",
              "    </tr>\n",
              "    <tr>\n",
              "      <th>2</th>\n",
              "      <td>3</td>\n",
              "      <td>Tampa Bay Buccaneers</td>\n",
              "      <td>16</td>\n",
              "      <td>492</td>\n",
              "      <td>6145</td>\n",
              "      <td>1017</td>\n",
              "      <td>6.0</td>\n",
              "      <td>17</td>\n",
              "      <td>5</td>\n",
              "      <td>364</td>\n",
              "      <td>410</td>\n",
              "      <td>626</td>\n",
              "      <td>4626</td>\n",
              "      <td>42</td>\n",
              "      <td>12</td>\n",
              "      <td>7.1</td>\n",
              "      <td>238</td>\n",
              "      <td>369</td>\n",
              "      <td>1519</td>\n",
              "      <td>16</td>\n",
              "      <td>4.1</td>\n",
              "      <td>82</td>\n",
              "      <td>84</td>\n",
              "      <td>715</td>\n",
              "      <td>44</td>\n",
              "      <td>47.8</td>\n",
              "      <td>8.9</td>\n",
              "      <td>246.24</td>\n",
              "      <td>2020</td>\n",
              "      <td>8</td>\n",
              "      <td>16</td>\n",
              "      <td>355</td>\n",
              "      <td>5234</td>\n",
              "      <td>1023</td>\n",
              "      <td>5.1</td>\n",
              "      <td>25</td>\n",
              "      <td>10</td>\n",
              "      <td>319</td>\n",
              "      <td>426</td>\n",
              "      <td>617</td>\n",
              "      <td>3945</td>\n",
              "      <td>29</td>\n",
              "      <td>15</td>\n",
              "      <td>5.9</td>\n",
              "      <td>215</td>\n",
              "      <td>358</td>\n",
              "      <td>1289</td>\n",
              "      <td>10</td>\n",
              "      <td>3.6</td>\n",
              "      <td>78</td>\n",
              "      <td>95</td>\n",
              "      <td>1015</td>\n",
              "      <td>26</td>\n",
              "      <td>33.7</td>\n",
              "      <td>14.0</td>\n",
              "      <td>-22.04</td>\n",
              "      <td>1.0</td>\n",
              "    </tr>\n",
              "    <tr>\n",
              "      <th>3</th>\n",
              "      <td>4</td>\n",
              "      <td>Tennessee Titans</td>\n",
              "      <td>16</td>\n",
              "      <td>491</td>\n",
              "      <td>6343</td>\n",
              "      <td>1031</td>\n",
              "      <td>6.2</td>\n",
              "      <td>12</td>\n",
              "      <td>5</td>\n",
              "      <td>381</td>\n",
              "      <td>316</td>\n",
              "      <td>485</td>\n",
              "      <td>3653</td>\n",
              "      <td>33</td>\n",
              "      <td>7</td>\n",
              "      <td>7.2</td>\n",
              "      <td>203</td>\n",
              "      <td>521</td>\n",
              "      <td>2690</td>\n",
              "      <td>26</td>\n",
              "      <td>5.2</td>\n",
              "      <td>142</td>\n",
              "      <td>86</td>\n",
              "      <td>783</td>\n",
              "      <td>36</td>\n",
              "      <td>47.9</td>\n",
              "      <td>7.2</td>\n",
              "      <td>245.01</td>\n",
              "      <td>2020</td>\n",
              "      <td>24</td>\n",
              "      <td>16</td>\n",
              "      <td>439</td>\n",
              "      <td>6372</td>\n",
              "      <td>1076</td>\n",
              "      <td>5.9</td>\n",
              "      <td>23</td>\n",
              "      <td>8</td>\n",
              "      <td>391</td>\n",
              "      <td>423</td>\n",
              "      <td>630</td>\n",
              "      <td>4439</td>\n",
              "      <td>36</td>\n",
              "      <td>15</td>\n",
              "      <td>6.8</td>\n",
              "      <td>247</td>\n",
              "      <td>427</td>\n",
              "      <td>1933</td>\n",
              "      <td>18</td>\n",
              "      <td>4.5</td>\n",
              "      <td>113</td>\n",
              "      <td>103</td>\n",
              "      <td>840</td>\n",
              "      <td>31</td>\n",
              "      <td>45.2</td>\n",
              "      <td>13.3</td>\n",
              "      <td>-185.20</td>\n",
              "      <td>0.0</td>\n",
              "    </tr>\n",
              "    <tr>\n",
              "      <th>4</th>\n",
              "      <td>5</td>\n",
              "      <td>New Orleans Saints</td>\n",
              "      <td>16</td>\n",
              "      <td>482</td>\n",
              "      <td>6023</td>\n",
              "      <td>1045</td>\n",
              "      <td>5.8</td>\n",
              "      <td>17</td>\n",
              "      <td>9</td>\n",
              "      <td>367</td>\n",
              "      <td>370</td>\n",
              "      <td>522</td>\n",
              "      <td>3758</td>\n",
              "      <td>28</td>\n",
              "      <td>8</td>\n",
              "      <td>6.8</td>\n",
              "      <td>199</td>\n",
              "      <td>494</td>\n",
              "      <td>2265</td>\n",
              "      <td>30</td>\n",
              "      <td>4.6</td>\n",
              "      <td>147</td>\n",
              "      <td>98</td>\n",
              "      <td>1005</td>\n",
              "      <td>21</td>\n",
              "      <td>45.5</td>\n",
              "      <td>9.0</td>\n",
              "      <td>176.94</td>\n",
              "      <td>2020</td>\n",
              "      <td>5</td>\n",
              "      <td>16</td>\n",
              "      <td>337</td>\n",
              "      <td>4974</td>\n",
              "      <td>992</td>\n",
              "      <td>5.0</td>\n",
              "      <td>26</td>\n",
              "      <td>8</td>\n",
              "      <td>320</td>\n",
              "      <td>333</td>\n",
              "      <td>557</td>\n",
              "      <td>3472</td>\n",
              "      <td>28</td>\n",
              "      <td>18</td>\n",
              "      <td>5.8</td>\n",
              "      <td>185</td>\n",
              "      <td>390</td>\n",
              "      <td>1502</td>\n",
              "      <td>11</td>\n",
              "      <td>3.9</td>\n",
              "      <td>85</td>\n",
              "      <td>64</td>\n",
              "      <td>517</td>\n",
              "      <td>50</td>\n",
              "      <td>34.7</td>\n",
              "      <td>13.1</td>\n",
              "      <td>-40.02</td>\n",
              "      <td>0.0</td>\n",
              "    </tr>\n",
              "  </tbody>\n",
              "</table>\n",
              "</div>"
            ],
            "text/plain": [
              "   O_Rank                  Team  ...  D_Expected_Points  Superbowl Winner\n",
              "0       1     Green Bay Packers  ...            -109.67               0.0\n",
              "1       2         Buffalo Bills  ...            -123.10               0.0\n",
              "2       3  Tampa Bay Buccaneers  ...             -22.04               1.0\n",
              "3       4      Tennessee Titans  ...            -185.20               0.0\n",
              "4       5    New Orleans Saints  ...             -40.02               0.0\n",
              "\n",
              "[5 rows x 57 columns]"
            ]
          },
          "metadata": {
            "tags": []
          },
          "execution_count": 12
        }
      ]
    },
    {
      "cell_type": "code",
      "metadata": {
        "id": "1THo7ULfpsf0"
      },
      "source": [
        "combine_file.to_csv('/content/drive/MyDrive/NFL Predictions/combine_file.csv', index=False)"
      ],
      "execution_count": 13,
      "outputs": []
    },
    {
      "cell_type": "markdown",
      "metadata": {
        "id": "_IkkN_fxjNXF"
      },
      "source": [
        "### Update Team Names - Due to Franchise Move"
      ]
    },
    {
      "cell_type": "markdown",
      "metadata": {
        "id": "Ndo3aU2jjgjq"
      },
      "source": [
        "      The Oakland Raiders changed the team name to the Las Vegas Raiders\n",
        "      The San Diego Chargers changed the team name to the Los Angeles Chargers\n",
        "      The Washington Redskins changed the team name to the Washington Football Team\n",
        "      The St. Louis Rams changed the team name to the Los Angeles Rams"
      ]
    },
    {
      "cell_type": "code",
      "metadata": {
        "colab": {
          "base_uri": "https://localhost:8080/"
        },
        "id": "5yGWeDiXhaNH",
        "outputId": "88e5b6f0-4882-4770-98b2-252aac818531"
      },
      "source": [
        "offense.Team.unique()"
      ],
      "execution_count": 14,
      "outputs": [
        {
          "output_type": "execute_result",
          "data": {
            "text/plain": [
              "array(['Green Bay Packers', 'Buffalo Bills', 'Tampa Bay Buccaneers',\n",
              "       'Tennessee Titans', 'New Orleans Saints', 'Kansas City Chiefs',\n",
              "       'Baltimore Ravens', 'Seattle Seahawks', 'Indianapolis Colts',\n",
              "       'Las Vegas Raiders', 'Minnesota Vikings', 'Pittsburgh Steelers',\n",
              "       'Arizona Cardinals', 'Cleveland Browns', 'Miami Dolphins',\n",
              "       'Atlanta Falcons', 'Dallas Cowboys', 'Houston Texans',\n",
              "       'Los Angeles Chargers', 'Detroit Lions', 'San Francisco 49ers',\n",
              "       'Los Angeles Rams', 'Chicago Bears', 'Carolina Panthers',\n",
              "       'Washington Football Team', 'Philadelphia Eagles',\n",
              "       'New England Patriots', 'Denver Broncos', 'Cincinnati Bengals',\n",
              "       'Jacksonville Jaguars', 'New York Giants', 'New York Jets',\n",
              "       'Oakland Raiders', 'Washington Redskins', 'San Diego Chargers',\n",
              "       'St. Louis Rams'], dtype=object)"
            ]
          },
          "metadata": {
            "tags": []
          },
          "execution_count": 14
        }
      ]
    },
    {
      "cell_type": "markdown",
      "metadata": {
        "id": "FQEx7HwVkYP4"
      },
      "source": [
        "**Update Oakland Raiders to the Las Vegas Raiders - All datasets**"
      ]
    },
    {
      "cell_type": "code",
      "metadata": {
        "id": "JpujF7u8hBOV"
      },
      "source": [
        "for index in offense.index:\n",
        "    if offense.loc[index,'Team']=='Oakland Raiders':\n",
        "        offense.loc[index,'Team'] = 'Las Vegas Raiders'\n",
        "\n",
        "for index in defense.index:\n",
        "    if defense.loc[index,'Team']=='Oakland Raiders':\n",
        "        defense.loc[index,'Team'] = 'Las Vegas Raiders'\n",
        "\n",
        "for index in sb_winner.index:\n",
        "    if sb_winner.loc[index,'Winner']=='Oakland Raiders':\n",
        "        sb_winner.loc[index,'Winner'] = 'Las Vegas Raiders'"
      ],
      "execution_count": 15,
      "outputs": []
    },
    {
      "cell_type": "markdown",
      "metadata": {
        "id": "HT9URb6IkjJ2"
      },
      "source": [
        "**Update San Diego Chargers to the Los Angelos Chargers - All datasets**"
      ]
    },
    {
      "cell_type": "code",
      "metadata": {
        "id": "sF2HY_MRlicJ"
      },
      "source": [
        "for index in offense.index:\n",
        "    if offense.loc[index,'Team']=='San Diego Chargers':\n",
        "        offense.loc[index,'Team'] = 'Los Angeles Chargers'\n",
        "\n",
        "for index in defense.index:\n",
        "    if defense.loc[index,'Team']=='San Diego Chargers':\n",
        "        defense.loc[index,'Team'] = 'Los Angeles Chargers'\n",
        "\n",
        "for index in sb_winner.index:\n",
        "    if sb_winner.loc[index,'Winner']=='San Diego Chargers':\n",
        "        sb_winner.loc[index,'Winner'] = 'Los Angeles Chargers'"
      ],
      "execution_count": 16,
      "outputs": []
    },
    {
      "cell_type": "markdown",
      "metadata": {
        "id": "QBq67Q9nkk9C"
      },
      "source": [
        "**Update Washington Redskins to the Washington Football Team - All datasets**"
      ]
    },
    {
      "cell_type": "code",
      "metadata": {
        "id": "_dCngrgdlurI"
      },
      "source": [
        "for index in offense.index:\n",
        "    if offense.loc[index,'Team']=='Washington Redskins':\n",
        "        offense.loc[index,'Team'] = 'Washington Football Team'\n",
        "\n",
        "for index in defense.index:\n",
        "    if defense.loc[index,'Team']=='Washington Redskins':\n",
        "        defense.loc[index,'Team'] = 'Washington Football Team'\n",
        "\n",
        "for index in sb_winner.index:\n",
        "    if sb_winner.loc[index,'Winner']=='Washington Redskins':\n",
        "        sb_winner.loc[index,'Winner'] = 'Washington Football Team'"
      ],
      "execution_count": 17,
      "outputs": []
    },
    {
      "cell_type": "markdown",
      "metadata": {
        "id": "_LlqkLFNldyE"
      },
      "source": [
        "**Update St. Louis Rams to the Los Angelos Rams - All datasets**"
      ]
    },
    {
      "cell_type": "code",
      "metadata": {
        "id": "mMK4YVAykEbB"
      },
      "source": [
        "for index in offense.index:\n",
        "    if offense.loc[index,'Team']=='St. Louis Rams':\n",
        "        offense.loc[index,'Team'] = 'Los Angeles Rams'\n",
        "\n",
        "for index in defense.index:\n",
        "    if defense.loc[index,'Team']=='St. Louis Rams':\n",
        "        defense.loc[index,'Team'] = 'Los Angeles Rams'\n",
        "\n",
        "for index in sb_winner.index:\n",
        "    if sb_winner.loc[index,'Winner']=='St. Louis Rams':\n",
        "        sb_winner.loc[index,'Winner'] = 'Los Angeles Rams'"
      ],
      "execution_count": 18,
      "outputs": []
    },
    {
      "cell_type": "code",
      "metadata": {
        "colab": {
          "base_uri": "https://localhost:8080/"
        },
        "id": "K5frB4emjGIp",
        "outputId": "1cac9883-592f-4fdc-c80f-daa9b256ac8a"
      },
      "source": [
        "offense.Team.unique()"
      ],
      "execution_count": 19,
      "outputs": [
        {
          "output_type": "execute_result",
          "data": {
            "text/plain": [
              "array(['Green Bay Packers', 'Buffalo Bills', 'Tampa Bay Buccaneers',\n",
              "       'Tennessee Titans', 'New Orleans Saints', 'Kansas City Chiefs',\n",
              "       'Baltimore Ravens', 'Seattle Seahawks', 'Indianapolis Colts',\n",
              "       'Las Vegas Raiders', 'Minnesota Vikings', 'Pittsburgh Steelers',\n",
              "       'Arizona Cardinals', 'Cleveland Browns', 'Miami Dolphins',\n",
              "       'Atlanta Falcons', 'Dallas Cowboys', 'Houston Texans',\n",
              "       'Los Angeles Chargers', 'Detroit Lions', 'San Francisco 49ers',\n",
              "       'Los Angeles Rams', 'Chicago Bears', 'Carolina Panthers',\n",
              "       'Washington Football Team', 'Philadelphia Eagles',\n",
              "       'New England Patriots', 'Denver Broncos', 'Cincinnati Bengals',\n",
              "       'Jacksonville Jaguars', 'New York Giants', 'New York Jets'],\n",
              "      dtype=object)"
            ]
          },
          "metadata": {
            "tags": []
          },
          "execution_count": 19
        }
      ]
    },
    {
      "cell_type": "markdown",
      "metadata": {
        "id": "6R5c4Ik3nE1O"
      },
      "source": [
        "## New 5 Year Dataset "
      ]
    },
    {
      "cell_type": "code",
      "metadata": {
        "colab": {
          "base_uri": "https://localhost:8080/"
        },
        "id": "Ll5bOOuE1mkh",
        "outputId": "26e16ebf-fe44-4f41-daa2-59c35c474a82"
      },
      "source": [
        "year_5y = data[(data['Year'] > 2015)]\n",
        "year_5y.info()"
      ],
      "execution_count": 20,
      "outputs": [
        {
          "output_type": "stream",
          "text": [
            "<class 'pandas.core.frame.DataFrame'>\n",
            "Int64Index: 160 entries, 0 to 159\n",
            "Data columns (total 57 columns):\n",
            " #   Column             Non-Null Count  Dtype  \n",
            "---  ------             --------------  -----  \n",
            " 0   O_Rank             160 non-null    int64  \n",
            " 1   Team               160 non-null    object \n",
            " 2   O_Games_Played     160 non-null    int64  \n",
            " 3   O_Points_For       160 non-null    int64  \n",
            " 4   O_Total_Yards      160 non-null    int64  \n",
            " 5   O_Plays            160 non-null    int64  \n",
            " 6   O_Y/Play           160 non-null    float64\n",
            " 7   O_TO               160 non-null    int64  \n",
            " 8   O_Fumbles_Lost     160 non-null    int64  \n",
            " 9   O_1st_D            160 non-null    int64  \n",
            " 10  O_P_Completions    160 non-null    int64  \n",
            " 11  O_P_Attempts       160 non-null    int64  \n",
            " 12  O_P_Yards          160 non-null    int64  \n",
            " 13  O_P_TD             160 non-null    int64  \n",
            " 14  O_P_Int            160 non-null    int64  \n",
            " 15  O_P_Y/PA           160 non-null    float64\n",
            " 16  O_P_Passing_1st_D  160 non-null    int64  \n",
            " 17  O_R_Att            160 non-null    int64  \n",
            " 18  O_R_Yards          160 non-null    int64  \n",
            " 19  O_R_TD             160 non-null    int64  \n",
            " 20  O_R_Y/A            160 non-null    float64\n",
            " 21  O_R_1st_D          160 non-null    int64  \n",
            " 22  O_Pe               160 non-null    int64  \n",
            " 23  O_Pe_Yards         160 non-null    int64  \n",
            " 24  O_Pe_1st_D         160 non-null    int64  \n",
            " 25  O_Scoring_Drives   160 non-null    float64\n",
            " 26  O_TO_%             160 non-null    float64\n",
            " 27  O_Expected_Points  160 non-null    float64\n",
            " 28  Year               160 non-null    int64  \n",
            " 29  D_Rank             160 non-null    int64  \n",
            " 30  D_Games_Played     160 non-null    int64  \n",
            " 31  D_Points_Allowed   160 non-null    int64  \n",
            " 32  D_Total_Yards      160 non-null    int64  \n",
            " 33  D_Plays            160 non-null    int64  \n",
            " 34  D_Y/Play           160 non-null    float64\n",
            " 35  D_TD               160 non-null    int64  \n",
            " 36  D_Fumbles_Lost     160 non-null    int64  \n",
            " 37  D_1st_D            160 non-null    int64  \n",
            " 38  D_P_Completions    160 non-null    int64  \n",
            " 39  D_P_Attempts       160 non-null    int64  \n",
            " 40  D_P_Yards          160 non-null    int64  \n",
            " 41  D_P_TD             160 non-null    int64  \n",
            " 42  D_P_Int            160 non-null    int64  \n",
            " 43  D_P_Y/PA           160 non-null    float64\n",
            " 44  D_P_Passing_1st_D  160 non-null    int64  \n",
            " 45  D_R_Att            160 non-null    int64  \n",
            " 46  D_R_Yards          160 non-null    int64  \n",
            " 47  D_R_TD             160 non-null    int64  \n",
            " 48  D_R_Y/A            160 non-null    float64\n",
            " 49  D_R_1st_D          160 non-null    int64  \n",
            " 50  D_Pe               160 non-null    int64  \n",
            " 51  D_Pe_Yards         160 non-null    int64  \n",
            " 52  D_Pe_1st_D         160 non-null    int64  \n",
            " 53  D_Scoring_Drives   160 non-null    float64\n",
            " 54  D_TD_%             160 non-null    float64\n",
            " 55  D_Expected_Points  160 non-null    float64\n",
            " 56  Superbowl Winner   160 non-null    float64\n",
            "dtypes: float64(13), int64(43), object(1)\n",
            "memory usage: 72.5+ KB\n"
          ],
          "name": "stdout"
        }
      ]
    },
    {
      "cell_type": "code",
      "metadata": {
        "id": "w7rSVorH8HL3"
      },
      "source": [
        "# sns.pairplot(year_5y, kind='scatter', hue='Team');"
      ],
      "execution_count": 21,
      "outputs": []
    },
    {
      "cell_type": "code",
      "metadata": {
        "colab": {
          "base_uri": "https://localhost:8080/",
          "height": 542
        },
        "id": "h_DCB92HzbAt",
        "outputId": "79ecd3ca-1630-4ec0-87b9-d3eaec777a22"
      },
      "source": [
        "fig1 = px.scatter(year_5y, x='O_TO', y= 'O_Pe_Yards', color=\"Superbowl Winner\",\n",
        "                 size='O_Pe_1st_D')\n",
        "fig1.update_layout(title='4 Features KMeans (Size= Offensive Penalty resulting in 1st Down)')\n",
        "fig1.show()"
      ],
      "execution_count": 22,
      "outputs": [
        {
          "output_type": "display_data",
          "data": {
            "text/html": [
              "<html>\n",
              "<head><meta charset=\"utf-8\" /></head>\n",
              "<body>\n",
              "    <div>\n",
              "            <script src=\"https://cdnjs.cloudflare.com/ajax/libs/mathjax/2.7.5/MathJax.js?config=TeX-AMS-MML_SVG\"></script><script type=\"text/javascript\">if (window.MathJax) {MathJax.Hub.Config({SVG: {font: \"STIX-Web\"}});}</script>\n",
              "                <script type=\"text/javascript\">window.PlotlyConfig = {MathJaxConfig: 'local'};</script>\n",
              "        <script src=\"https://cdn.plot.ly/plotly-latest.min.js\"></script>    \n",
              "            <div id=\"bf843c47-231c-4bbe-b207-b05c47e99dd1\" class=\"plotly-graph-div\" style=\"height:525px; width:100%;\"></div>\n",
              "            <script type=\"text/javascript\">\n",
              "                \n",
              "                    window.PLOTLYENV=window.PLOTLYENV || {};\n",
              "                    \n",
              "                if (document.getElementById(\"bf843c47-231c-4bbe-b207-b05c47e99dd1\")) {\n",
              "                    Plotly.newPlot(\n",
              "                        'bf843c47-231c-4bbe-b207-b05c47e99dd1',\n",
              "                        [{\"hoverlabel\": {\"namelength\": 0}, \"hovertemplate\": \"O_TO=%{x}<br>O_Pe_Yards=%{y}<br>O_Pe_1st_D=%{marker.size}<br>Superbowl Winner=%{marker.color}\", \"legendgroup\": \"\", \"marker\": {\"color\": [0.0, 0.0, 1.0, 0.0, 0.0, 0.0, 0.0, 0.0, 0.0, 0.0, 0.0, 0.0, 0.0, 0.0, 0.0, 0.0, 0.0, 0.0, 0.0, 0.0, 0.0, 0.0, 0.0, 0.0, 0.0, 0.0, 0.0, 0.0, 0.0, 0.0, 0.0, 0.0, 0.0, 0.0, 0.0, 0.0, 1.0, 0.0, 0.0, 0.0, 0.0, 0.0, 0.0, 0.0, 0.0, 0.0, 0.0, 0.0, 0.0, 0.0, 0.0, 0.0, 0.0, 0.0, 0.0, 0.0, 0.0, 0.0, 0.0, 0.0, 0.0, 0.0, 0.0, 0.0, 0.0, 0.0, 0.0, 1.0, 0.0, 0.0, 0.0, 0.0, 0.0, 0.0, 0.0, 0.0, 0.0, 0.0, 0.0, 0.0, 0.0, 0.0, 0.0, 0.0, 0.0, 0.0, 0.0, 0.0, 0.0, 0.0, 0.0, 0.0, 0.0, 0.0, 0.0, 0.0, 0.0, 0.0, 1.0, 0.0, 0.0, 0.0, 0.0, 0.0, 0.0, 0.0, 0.0, 0.0, 0.0, 0.0, 0.0, 0.0, 0.0, 0.0, 0.0, 0.0, 0.0, 0.0, 0.0, 0.0, 0.0, 0.0, 0.0, 0.0, 0.0, 0.0, 0.0, 0.0, 0.0, 0.0, 1.0, 0.0, 0.0, 0.0, 0.0, 0.0, 0.0, 0.0, 0.0, 0.0, 0.0, 0.0, 0.0, 0.0, 0.0, 0.0, 0.0, 0.0, 0.0, 0.0, 0.0, 0.0, 0.0, 0.0, 0.0, 0.0, 0.0, 0.0, 0.0, 0.0], \"coloraxis\": \"coloraxis\", \"size\": [28, 38, 44, 36, 21, 32, 19, 29, 34, 32, 32, 35, 34, 27, 38, 37, 25, 21, 36, 37, 32, 23, 24, 33, 30, 45, 32, 38, 25, 25, 28, 29, 27, 31, 28, 20, 46, 30, 31, 37, 30, 36, 28, 35, 41, 31, 40, 29, 44, 35, 35, 23, 39, 35, 32, 17, 41, 30, 43, 40, 34, 36, 30, 20, 37, 31, 33, 28, 38, 40, 25, 39, 46, 30, 37, 43, 30, 26, 27, 18, 30, 31, 26, 32, 45, 25, 17, 32, 33, 24, 27, 17, 28, 38, 21, 26, 29, 50, 37, 20, 38, 29, 28, 35, 32, 38, 31, 32, 33, 25, 29, 21, 47, 33, 36, 27, 32, 24, 31, 35, 44, 30, 25, 31, 30, 25, 27, 36, 32, 25, 39, 36, 25, 42, 37, 38, 36, 27, 29, 30, 22, 32, 25, 27, 21, 25, 40, 36, 32, 33, 28, 37, 39, 26, 19, 30, 19, 28, 32, 26], \"sizemode\": \"area\", \"sizeref\": 0.125, \"symbol\": \"circle\"}, \"mode\": \"markers\", \"name\": \"\", \"showlegend\": false, \"type\": \"scatter\", \"x\": [11, 22, 17, 12, 17, 16, 18, 18, 15, 26, 23, 18, 21, 16, 20, 18, 26, 18, 16, 21, 31, 25, 22, 21, 27, 29, 19, 32, 24, 25, 22, 19, 15, 23, 41, 8, 15, 18, 15, 20, 20, 17, 24, 23, 25, 22, 13, 18, 21, 23, 33, 35, 31, 28, 19, 17, 26, 20, 30, 16, 19, 30, 25, 21, 18, 19, 16, 18, 24, 11, 19, 26, 24, 18, 16, 35, 20, 15, 22, 19, 17, 23, 20, 24, 32, 17, 30, 21, 19, 23, 18, 24, 19, 32, 29, 28, 21, 12, 20, 18, 23, 11, 22, 20, 17, 14, 17, 22, 15, 22, 18, 27, 28, 27, 25, 23, 25, 16, 28, 24, 25, 23, 34, 29, 22, 15, 22, 41, 11, 24, 11, 17, 15, 28, 14, 22, 35, 12, 18, 21, 17, 18, 29, 20, 23, 18, 27, 15, 23, 25, 16, 17, 29, 27, 25, 24, 31, 34, 25, 29], \"xaxis\": \"x\", \"y\": [684, 941, 715, 783, 1005, 919, 961, 662, 899, 856, 650, 691, 868, 870, 635, 736, 849, 619, 710, 860, 731, 655, 777, 752, 697, 853, 534, 670, 675, 1071, 634, 952, 867, 939, 1111, 1036, 1029, 1008, 828, 895, 882, 932, 899, 836, 956, 892, 774, 956, 670, 937, 784, 754, 872, 1106, 927, 1138, 769, 1165, 893, 912, 838, 761, 1105, 835, 1152, 878, 939, 744, 953, 959, 967, 1026, 796, 899, 787, 975, 940, 937, 818, 951, 957, 852, 779, 894, 982, 885, 948, 985, 852, 978, 727, 965, 1008, 992, 1112, 786, 922, 835, 962, 967, 936, 1044, 968, 897, 749, 949, 1342, 682, 927, 939, 918, 733, 1050, 795, 785, 988, 789, 872, 1009, 1035, 880, 1027, 885, 1154, 943, 779, 895, 924, 848, 969, 819, 827, 879, 889, 1247, 883, 780, 960, 1068, 909, 848, 1012, 835, 945, 1142, 970, 926, 861, 1111, 985, 882, 726, 1187, 857, 831, 868, 967, 837, 736, 1091], \"yaxis\": \"y\"}],\n",
              "                        {\"coloraxis\": {\"colorbar\": {\"title\": {\"text\": \"Superbowl Winner\"}}, \"colorscale\": [[0.0, \"#0d0887\"], [0.1111111111111111, \"#46039f\"], [0.2222222222222222, \"#7201a8\"], [0.3333333333333333, \"#9c179e\"], [0.4444444444444444, \"#bd3786\"], [0.5555555555555556, \"#d8576b\"], [0.6666666666666666, \"#ed7953\"], [0.7777777777777778, \"#fb9f3a\"], [0.8888888888888888, \"#fdca26\"], [1.0, \"#f0f921\"]]}, \"legend\": {\"itemsizing\": \"constant\", \"tracegroupgap\": 0}, \"margin\": {\"t\": 60}, \"template\": {\"data\": {\"bar\": [{\"error_x\": {\"color\": \"#2a3f5f\"}, \"error_y\": {\"color\": \"#2a3f5f\"}, \"marker\": {\"line\": {\"color\": \"#E5ECF6\", \"width\": 0.5}}, \"type\": \"bar\"}], \"barpolar\": [{\"marker\": {\"line\": {\"color\": \"#E5ECF6\", \"width\": 0.5}}, \"type\": \"barpolar\"}], \"carpet\": [{\"aaxis\": {\"endlinecolor\": \"#2a3f5f\", \"gridcolor\": \"white\", \"linecolor\": \"white\", \"minorgridcolor\": \"white\", \"startlinecolor\": \"#2a3f5f\"}, \"baxis\": {\"endlinecolor\": \"#2a3f5f\", \"gridcolor\": \"white\", \"linecolor\": \"white\", \"minorgridcolor\": \"white\", \"startlinecolor\": \"#2a3f5f\"}, \"type\": \"carpet\"}], \"choropleth\": [{\"colorbar\": {\"outlinewidth\": 0, \"ticks\": \"\"}, \"type\": \"choropleth\"}], \"contour\": [{\"colorbar\": {\"outlinewidth\": 0, \"ticks\": \"\"}, \"colorscale\": [[0.0, \"#0d0887\"], [0.1111111111111111, \"#46039f\"], [0.2222222222222222, \"#7201a8\"], [0.3333333333333333, \"#9c179e\"], [0.4444444444444444, \"#bd3786\"], [0.5555555555555556, \"#d8576b\"], [0.6666666666666666, \"#ed7953\"], [0.7777777777777778, \"#fb9f3a\"], [0.8888888888888888, \"#fdca26\"], [1.0, \"#f0f921\"]], \"type\": \"contour\"}], \"contourcarpet\": [{\"colorbar\": {\"outlinewidth\": 0, \"ticks\": \"\"}, \"type\": \"contourcarpet\"}], \"heatmap\": [{\"colorbar\": {\"outlinewidth\": 0, \"ticks\": \"\"}, \"colorscale\": [[0.0, \"#0d0887\"], [0.1111111111111111, \"#46039f\"], [0.2222222222222222, \"#7201a8\"], [0.3333333333333333, \"#9c179e\"], [0.4444444444444444, \"#bd3786\"], [0.5555555555555556, \"#d8576b\"], [0.6666666666666666, \"#ed7953\"], [0.7777777777777778, \"#fb9f3a\"], [0.8888888888888888, \"#fdca26\"], [1.0, \"#f0f921\"]], \"type\": \"heatmap\"}], \"heatmapgl\": [{\"colorbar\": {\"outlinewidth\": 0, \"ticks\": \"\"}, \"colorscale\": [[0.0, \"#0d0887\"], [0.1111111111111111, \"#46039f\"], [0.2222222222222222, \"#7201a8\"], [0.3333333333333333, \"#9c179e\"], [0.4444444444444444, \"#bd3786\"], [0.5555555555555556, \"#d8576b\"], [0.6666666666666666, \"#ed7953\"], [0.7777777777777778, \"#fb9f3a\"], [0.8888888888888888, \"#fdca26\"], [1.0, \"#f0f921\"]], \"type\": \"heatmapgl\"}], \"histogram\": [{\"marker\": {\"colorbar\": {\"outlinewidth\": 0, \"ticks\": \"\"}}, \"type\": \"histogram\"}], \"histogram2d\": [{\"colorbar\": {\"outlinewidth\": 0, \"ticks\": \"\"}, \"colorscale\": [[0.0, \"#0d0887\"], [0.1111111111111111, \"#46039f\"], [0.2222222222222222, \"#7201a8\"], [0.3333333333333333, \"#9c179e\"], [0.4444444444444444, \"#bd3786\"], [0.5555555555555556, \"#d8576b\"], [0.6666666666666666, \"#ed7953\"], [0.7777777777777778, \"#fb9f3a\"], [0.8888888888888888, \"#fdca26\"], [1.0, \"#f0f921\"]], \"type\": \"histogram2d\"}], \"histogram2dcontour\": [{\"colorbar\": {\"outlinewidth\": 0, \"ticks\": \"\"}, \"colorscale\": [[0.0, \"#0d0887\"], [0.1111111111111111, \"#46039f\"], [0.2222222222222222, \"#7201a8\"], [0.3333333333333333, \"#9c179e\"], [0.4444444444444444, \"#bd3786\"], [0.5555555555555556, \"#d8576b\"], [0.6666666666666666, \"#ed7953\"], [0.7777777777777778, \"#fb9f3a\"], [0.8888888888888888, \"#fdca26\"], [1.0, \"#f0f921\"]], \"type\": \"histogram2dcontour\"}], \"mesh3d\": [{\"colorbar\": {\"outlinewidth\": 0, \"ticks\": \"\"}, \"type\": \"mesh3d\"}], \"parcoords\": [{\"line\": {\"colorbar\": {\"outlinewidth\": 0, \"ticks\": \"\"}}, \"type\": \"parcoords\"}], \"pie\": [{\"automargin\": true, \"type\": \"pie\"}], \"scatter\": [{\"marker\": {\"colorbar\": {\"outlinewidth\": 0, \"ticks\": \"\"}}, \"type\": \"scatter\"}], \"scatter3d\": [{\"line\": {\"colorbar\": {\"outlinewidth\": 0, \"ticks\": \"\"}}, \"marker\": {\"colorbar\": {\"outlinewidth\": 0, \"ticks\": \"\"}}, \"type\": \"scatter3d\"}], \"scattercarpet\": [{\"marker\": {\"colorbar\": {\"outlinewidth\": 0, \"ticks\": \"\"}}, \"type\": \"scattercarpet\"}], \"scattergeo\": [{\"marker\": {\"colorbar\": {\"outlinewidth\": 0, \"ticks\": \"\"}}, \"type\": \"scattergeo\"}], \"scattergl\": [{\"marker\": {\"colorbar\": {\"outlinewidth\": 0, \"ticks\": \"\"}}, \"type\": \"scattergl\"}], \"scattermapbox\": [{\"marker\": {\"colorbar\": {\"outlinewidth\": 0, \"ticks\": \"\"}}, \"type\": \"scattermapbox\"}], \"scatterpolar\": [{\"marker\": {\"colorbar\": {\"outlinewidth\": 0, \"ticks\": \"\"}}, \"type\": \"scatterpolar\"}], \"scatterpolargl\": [{\"marker\": {\"colorbar\": {\"outlinewidth\": 0, \"ticks\": \"\"}}, \"type\": \"scatterpolargl\"}], \"scatterternary\": [{\"marker\": {\"colorbar\": {\"outlinewidth\": 0, \"ticks\": \"\"}}, \"type\": \"scatterternary\"}], \"surface\": [{\"colorbar\": {\"outlinewidth\": 0, \"ticks\": \"\"}, \"colorscale\": [[0.0, \"#0d0887\"], [0.1111111111111111, \"#46039f\"], [0.2222222222222222, \"#7201a8\"], [0.3333333333333333, \"#9c179e\"], [0.4444444444444444, \"#bd3786\"], [0.5555555555555556, \"#d8576b\"], [0.6666666666666666, \"#ed7953\"], [0.7777777777777778, \"#fb9f3a\"], [0.8888888888888888, \"#fdca26\"], [1.0, \"#f0f921\"]], \"type\": \"surface\"}], \"table\": [{\"cells\": {\"fill\": {\"color\": \"#EBF0F8\"}, \"line\": {\"color\": \"white\"}}, \"header\": {\"fill\": {\"color\": \"#C8D4E3\"}, \"line\": {\"color\": \"white\"}}, \"type\": \"table\"}]}, \"layout\": {\"annotationdefaults\": {\"arrowcolor\": \"#2a3f5f\", \"arrowhead\": 0, \"arrowwidth\": 1}, \"coloraxis\": {\"colorbar\": {\"outlinewidth\": 0, \"ticks\": \"\"}}, \"colorscale\": {\"diverging\": [[0, \"#8e0152\"], [0.1, \"#c51b7d\"], [0.2, \"#de77ae\"], [0.3, \"#f1b6da\"], [0.4, \"#fde0ef\"], [0.5, \"#f7f7f7\"], [0.6, \"#e6f5d0\"], [0.7, \"#b8e186\"], [0.8, \"#7fbc41\"], [0.9, \"#4d9221\"], [1, \"#276419\"]], \"sequential\": [[0.0, \"#0d0887\"], [0.1111111111111111, \"#46039f\"], [0.2222222222222222, \"#7201a8\"], [0.3333333333333333, \"#9c179e\"], [0.4444444444444444, \"#bd3786\"], [0.5555555555555556, \"#d8576b\"], [0.6666666666666666, \"#ed7953\"], [0.7777777777777778, \"#fb9f3a\"], [0.8888888888888888, \"#fdca26\"], [1.0, \"#f0f921\"]], \"sequentialminus\": [[0.0, \"#0d0887\"], [0.1111111111111111, \"#46039f\"], [0.2222222222222222, \"#7201a8\"], [0.3333333333333333, \"#9c179e\"], [0.4444444444444444, \"#bd3786\"], [0.5555555555555556, \"#d8576b\"], [0.6666666666666666, \"#ed7953\"], [0.7777777777777778, \"#fb9f3a\"], [0.8888888888888888, \"#fdca26\"], [1.0, \"#f0f921\"]]}, \"colorway\": [\"#636efa\", \"#EF553B\", \"#00cc96\", \"#ab63fa\", \"#FFA15A\", \"#19d3f3\", \"#FF6692\", \"#B6E880\", \"#FF97FF\", \"#FECB52\"], \"font\": {\"color\": \"#2a3f5f\"}, \"geo\": {\"bgcolor\": \"white\", \"lakecolor\": \"white\", \"landcolor\": \"#E5ECF6\", \"showlakes\": true, \"showland\": true, \"subunitcolor\": \"white\"}, \"hoverlabel\": {\"align\": \"left\"}, \"hovermode\": \"closest\", \"mapbox\": {\"style\": \"light\"}, \"paper_bgcolor\": \"white\", \"plot_bgcolor\": \"#E5ECF6\", \"polar\": {\"angularaxis\": {\"gridcolor\": \"white\", \"linecolor\": \"white\", \"ticks\": \"\"}, \"bgcolor\": \"#E5ECF6\", \"radialaxis\": {\"gridcolor\": \"white\", \"linecolor\": \"white\", \"ticks\": \"\"}}, \"scene\": {\"xaxis\": {\"backgroundcolor\": \"#E5ECF6\", \"gridcolor\": \"white\", \"gridwidth\": 2, \"linecolor\": \"white\", \"showbackground\": true, \"ticks\": \"\", \"zerolinecolor\": \"white\"}, \"yaxis\": {\"backgroundcolor\": \"#E5ECF6\", \"gridcolor\": \"white\", \"gridwidth\": 2, \"linecolor\": \"white\", \"showbackground\": true, \"ticks\": \"\", \"zerolinecolor\": \"white\"}, \"zaxis\": {\"backgroundcolor\": \"#E5ECF6\", \"gridcolor\": \"white\", \"gridwidth\": 2, \"linecolor\": \"white\", \"showbackground\": true, \"ticks\": \"\", \"zerolinecolor\": \"white\"}}, \"shapedefaults\": {\"line\": {\"color\": \"#2a3f5f\"}}, \"ternary\": {\"aaxis\": {\"gridcolor\": \"white\", \"linecolor\": \"white\", \"ticks\": \"\"}, \"baxis\": {\"gridcolor\": \"white\", \"linecolor\": \"white\", \"ticks\": \"\"}, \"bgcolor\": \"#E5ECF6\", \"caxis\": {\"gridcolor\": \"white\", \"linecolor\": \"white\", \"ticks\": \"\"}}, \"title\": {\"x\": 0.05}, \"xaxis\": {\"automargin\": true, \"gridcolor\": \"white\", \"linecolor\": \"white\", \"ticks\": \"\", \"title\": {\"standoff\": 15}, \"zerolinecolor\": \"white\", \"zerolinewidth\": 2}, \"yaxis\": {\"automargin\": true, \"gridcolor\": \"white\", \"linecolor\": \"white\", \"ticks\": \"\", \"title\": {\"standoff\": 15}, \"zerolinecolor\": \"white\", \"zerolinewidth\": 2}}}, \"title\": {\"text\": \"4 Features KMeans (Size= Offensive Penalty resulting in 1st Down)\"}, \"xaxis\": {\"anchor\": \"y\", \"domain\": [0.0, 1.0], \"title\": {\"text\": \"O_TO\"}}, \"yaxis\": {\"anchor\": \"x\", \"domain\": [0.0, 1.0], \"title\": {\"text\": \"O_Pe_Yards\"}}},\n",
              "                        {\"responsive\": true}\n",
              "                    ).then(function(){\n",
              "                            \n",
              "var gd = document.getElementById('bf843c47-231c-4bbe-b207-b05c47e99dd1');\n",
              "var x = new MutationObserver(function (mutations, observer) {{\n",
              "        var display = window.getComputedStyle(gd).display;\n",
              "        if (!display || display === 'none') {{\n",
              "            console.log([gd, 'removed!']);\n",
              "            Plotly.purge(gd);\n",
              "            observer.disconnect();\n",
              "        }}\n",
              "}});\n",
              "\n",
              "// Listen for the removal of the full notebook cells\n",
              "var notebookContainer = gd.closest('#notebook-container');\n",
              "if (notebookContainer) {{\n",
              "    x.observe(notebookContainer, {childList: true});\n",
              "}}\n",
              "\n",
              "// Listen for the clearing of the current output cell\n",
              "var outputEl = gd.closest('.output');\n",
              "if (outputEl) {{\n",
              "    x.observe(outputEl, {childList: true});\n",
              "}}\n",
              "\n",
              "                        })\n",
              "                };\n",
              "                \n",
              "            </script>\n",
              "        </div>\n",
              "</body>\n",
              "</html>"
            ]
          },
          "metadata": {
            "tags": []
          }
        }
      ]
    },
    {
      "cell_type": "markdown",
      "metadata": {
        "id": "raOPGcEQETc7"
      },
      "source": [
        "![newplot (2).png](data:image/png;base64,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)"
      ]
    },
    {
      "cell_type": "markdown",
      "metadata": {
        "id": "phOxCrSi-ICB"
      },
      "source": [
        "      The last 5 Superbowl winners all had less than 21 Offensive Turnovers\n",
        "      All but 1 of 5 Superbowl winners allowed for more than 1k Penalty Yards\n",
        "\n"
      ]
    },
    {
      "cell_type": "code",
      "metadata": {
        "colab": {
          "base_uri": "https://localhost:8080/",
          "height": 542
        },
        "id": "1GK6MOqm_roO",
        "outputId": "d486ca28-998b-4e85-be68-28b9caa4b36b"
      },
      "source": [
        "fig1 = px.scatter(year_5y, x='D_P_Int', y= 'D_Pe_Yards', color=\"Superbowl Winner\",\n",
        "                 size='D_Pe_1st_D')\n",
        "fig1.update_layout(title='4 Features KMeans (Size= Defensive Penalty resulting in 1st Down)')\n",
        "fig1.show()"
      ],
      "execution_count": 23,
      "outputs": [
        {
          "output_type": "display_data",
          "data": {
            "text/html": [
              "<html>\n",
              "<head><meta charset=\"utf-8\" /></head>\n",
              "<body>\n",
              "    <div>\n",
              "            <script src=\"https://cdnjs.cloudflare.com/ajax/libs/mathjax/2.7.5/MathJax.js?config=TeX-AMS-MML_SVG\"></script><script type=\"text/javascript\">if (window.MathJax) {MathJax.Hub.Config({SVG: {font: \"STIX-Web\"}});}</script>\n",
              "                <script type=\"text/javascript\">window.PlotlyConfig = {MathJaxConfig: 'local'};</script>\n",
              "        <script src=\"https://cdn.plot.ly/plotly-latest.min.js\"></script>    \n",
              "            <div id=\"82811a2f-33f6-469f-ae69-283eafa86e54\" class=\"plotly-graph-div\" style=\"height:525px; width:100%;\"></div>\n",
              "            <script type=\"text/javascript\">\n",
              "                \n",
              "                    window.PLOTLYENV=window.PLOTLYENV || {};\n",
              "                    \n",
              "                if (document.getElementById(\"82811a2f-33f6-469f-ae69-283eafa86e54\")) {\n",
              "                    Plotly.newPlot(\n",
              "                        '82811a2f-33f6-469f-ae69-283eafa86e54',\n",
              "                        [{\"hoverlabel\": {\"namelength\": 0}, \"hovertemplate\": \"D_P_Int=%{x}<br>D_Pe_Yards=%{y}<br>D_Pe_1st_D=%{marker.size}<br>Superbowl Winner=%{marker.color}\", \"legendgroup\": \"\", \"marker\": {\"color\": [0.0, 0.0, 1.0, 0.0, 0.0, 0.0, 0.0, 0.0, 0.0, 0.0, 0.0, 0.0, 0.0, 0.0, 0.0, 0.0, 0.0, 0.0, 0.0, 0.0, 0.0, 0.0, 0.0, 0.0, 0.0, 0.0, 0.0, 0.0, 0.0, 0.0, 0.0, 0.0, 0.0, 0.0, 0.0, 0.0, 1.0, 0.0, 0.0, 0.0, 0.0, 0.0, 0.0, 0.0, 0.0, 0.0, 0.0, 0.0, 0.0, 0.0, 0.0, 0.0, 0.0, 0.0, 0.0, 0.0, 0.0, 0.0, 0.0, 0.0, 0.0, 0.0, 0.0, 0.0, 0.0, 0.0, 0.0, 1.0, 0.0, 0.0, 0.0, 0.0, 0.0, 0.0, 0.0, 0.0, 0.0, 0.0, 0.0, 0.0, 0.0, 0.0, 0.0, 0.0, 0.0, 0.0, 0.0, 0.0, 0.0, 0.0, 0.0, 0.0, 0.0, 0.0, 0.0, 0.0, 0.0, 0.0, 1.0, 0.0, 0.0, 0.0, 0.0, 0.0, 0.0, 0.0, 0.0, 0.0, 0.0, 0.0, 0.0, 0.0, 0.0, 0.0, 0.0, 0.0, 0.0, 0.0, 0.0, 0.0, 0.0, 0.0, 0.0, 0.0, 0.0, 0.0, 0.0, 0.0, 0.0, 0.0, 1.0, 0.0, 0.0, 0.0, 0.0, 0.0, 0.0, 0.0, 0.0, 0.0, 0.0, 0.0, 0.0, 0.0, 0.0, 0.0, 0.0, 0.0, 0.0, 0.0, 0.0, 0.0, 0.0, 0.0, 0.0, 0.0, 0.0, 0.0, 0.0, 0.0], \"coloraxis\": \"coloraxis\", \"size\": [29, 27, 26, 31, 50, 38, 38, 26, 32, 44, 22, 24, 38, 22, 30, 31, 37, 23, 26, 35, 33, 19, 37, 35, 28, 33, 21, 26, 25, 44, 23, 46, 39, 30, 39, 43, 39, 38, 39, 31, 25, 27, 30, 28, 30, 28, 20, 38, 23, 39, 32, 30, 28, 37, 33, 52, 34, 33, 30, 34, 30, 21, 40, 34, 43, 36, 37, 21, 25, 31, 32, 33, 25, 34, 22, 25, 30, 32, 20, 38, 26, 22, 36, 31, 38, 27, 38, 36, 36, 39, 18, 31, 24, 25, 37, 32, 33, 23, 33, 44, 23, 36, 35, 24, 30, 33, 45, 26, 30, 35, 29, 31, 37, 23, 24, 37, 25, 28, 24, 50, 28, 41, 32, 41, 33, 33, 23, 31, 31, 32, 23, 22, 25, 28, 36, 35, 27, 33, 34, 34, 31, 27, 16, 34, 41, 33, 21, 28, 30, 36, 31, 36, 38, 25, 31, 28, 35, 29, 23, 40], \"sizemode\": \"area\", \"sizeref\": 0.13, \"symbol\": \"circle\"}, \"mode\": \"markers\", \"name\": \"\", \"showlegend\": false, \"type\": \"scatter\", \"x\": [11, 15, 15, 15, 18, 16, 10, 14, 15, 10, 15, 18, 11, 11, 18, 12, 10, 3, 12, 7, 12, 14, 10, 7, 16, 8, 18, 10, 11, 12, 11, 10, 13, 12, 12, 13, 16, 7, 25, 17, 16, 14, 13, 11, 12, 12, 17, 7, 15, 7, 10, 14, 11, 14, 14, 9, 13, 10, 20, 10, 10, 11, 12, 13, 15, 18, 12, 18, 15, 12, 13, 8, 27, 15, 15, 9, 12, 7, 13, 16, 12, 10, 12, 17, 2, 9, 13, 17, 7, 21, 11, 14, 15, 16, 11, 7, 18, 12, 19, 20, 21, 16, 19, 16, 22, 14, 14, 10, 18, 10, 8, 16, 11, 13, 12, 10, 11, 18, 5, 11, 15, 11, 10, 9, 8, 13, 13, 7, 12, 9, 13, 17, 9, 14, 16, 8, 18, 12, 13, 13, 18, 12, 17, 16, 16, 11, 17, 10, 18, 14, 14, 17, 7, 17, 10, 11, 8, 8, 10, 10], \"xaxis\": \"x\", \"y\": [734, 728, 1015, 840, 517, 760, 646, 803, 755, 915, 723, 980, 841, 690, 805, 800, 733, 678, 869, 797, 709, 582, 861, 713, 708, 1036, 639, 952, 795, 710, 681, 899, 795, 957, 971, 713, 844, 855, 920, 713, 798, 1025, 829, 959, 1080, 859, 968, 1041, 1040, 960, 922, 940, 959, 836, 815, 763, 1084, 883, 1118, 1041, 923, 988, 902, 805, 881, 852, 814, 838, 1115, 981, 828, 1170, 1022, 1001, 945, 1156, 1017, 792, 805, 919, 944, 995, 834, 990, 1011, 681, 817, 1006, 886, 856, 984, 991, 791, 976, 735, 790, 808, 1035, 917, 850, 1050, 864, 971, 1041, 807, 928, 878, 867, 996, 880, 880, 887, 1128, 937, 942, 791, 832, 873, 944, 981, 1128, 906, 821, 1077, 910, 822, 923, 906, 974, 881, 930, 964, 784, 1010, 1062, 1155, 837, 884, 920, 1023, 797, 1191, 907, 837, 919, 925, 1061, 979, 900, 990, 825, 950, 948, 853, 795, 949, 959, 651, 930, 920], \"yaxis\": \"y\"}],\n",
              "                        {\"coloraxis\": {\"colorbar\": {\"title\": {\"text\": \"Superbowl Winner\"}}, \"colorscale\": [[0.0, \"#0d0887\"], [0.1111111111111111, \"#46039f\"], [0.2222222222222222, \"#7201a8\"], [0.3333333333333333, \"#9c179e\"], [0.4444444444444444, \"#bd3786\"], [0.5555555555555556, \"#d8576b\"], [0.6666666666666666, \"#ed7953\"], [0.7777777777777778, \"#fb9f3a\"], [0.8888888888888888, \"#fdca26\"], [1.0, \"#f0f921\"]]}, \"legend\": {\"itemsizing\": \"constant\", \"tracegroupgap\": 0}, \"margin\": {\"t\": 60}, \"template\": {\"data\": {\"bar\": [{\"error_x\": {\"color\": \"#2a3f5f\"}, \"error_y\": {\"color\": \"#2a3f5f\"}, \"marker\": {\"line\": {\"color\": \"#E5ECF6\", \"width\": 0.5}}, \"type\": \"bar\"}], \"barpolar\": [{\"marker\": {\"line\": {\"color\": \"#E5ECF6\", \"width\": 0.5}}, \"type\": \"barpolar\"}], \"carpet\": [{\"aaxis\": {\"endlinecolor\": \"#2a3f5f\", \"gridcolor\": \"white\", \"linecolor\": \"white\", \"minorgridcolor\": \"white\", \"startlinecolor\": \"#2a3f5f\"}, \"baxis\": {\"endlinecolor\": \"#2a3f5f\", \"gridcolor\": \"white\", \"linecolor\": \"white\", \"minorgridcolor\": \"white\", \"startlinecolor\": \"#2a3f5f\"}, \"type\": \"carpet\"}], \"choropleth\": [{\"colorbar\": {\"outlinewidth\": 0, \"ticks\": \"\"}, \"type\": \"choropleth\"}], \"contour\": [{\"colorbar\": {\"outlinewidth\": 0, \"ticks\": \"\"}, \"colorscale\": [[0.0, \"#0d0887\"], [0.1111111111111111, \"#46039f\"], [0.2222222222222222, \"#7201a8\"], [0.3333333333333333, \"#9c179e\"], [0.4444444444444444, \"#bd3786\"], [0.5555555555555556, \"#d8576b\"], [0.6666666666666666, \"#ed7953\"], [0.7777777777777778, \"#fb9f3a\"], [0.8888888888888888, \"#fdca26\"], [1.0, \"#f0f921\"]], \"type\": \"contour\"}], \"contourcarpet\": [{\"colorbar\": {\"outlinewidth\": 0, \"ticks\": \"\"}, \"type\": \"contourcarpet\"}], \"heatmap\": [{\"colorbar\": {\"outlinewidth\": 0, \"ticks\": \"\"}, \"colorscale\": [[0.0, \"#0d0887\"], [0.1111111111111111, \"#46039f\"], [0.2222222222222222, \"#7201a8\"], [0.3333333333333333, \"#9c179e\"], [0.4444444444444444, \"#bd3786\"], [0.5555555555555556, \"#d8576b\"], [0.6666666666666666, \"#ed7953\"], [0.7777777777777778, \"#fb9f3a\"], [0.8888888888888888, \"#fdca26\"], [1.0, \"#f0f921\"]], \"type\": \"heatmap\"}], \"heatmapgl\": [{\"colorbar\": {\"outlinewidth\": 0, \"ticks\": \"\"}, \"colorscale\": [[0.0, \"#0d0887\"], [0.1111111111111111, \"#46039f\"], [0.2222222222222222, \"#7201a8\"], [0.3333333333333333, \"#9c179e\"], [0.4444444444444444, \"#bd3786\"], [0.5555555555555556, \"#d8576b\"], [0.6666666666666666, \"#ed7953\"], [0.7777777777777778, \"#fb9f3a\"], [0.8888888888888888, \"#fdca26\"], [1.0, \"#f0f921\"]], \"type\": \"heatmapgl\"}], \"histogram\": [{\"marker\": {\"colorbar\": {\"outlinewidth\": 0, \"ticks\": \"\"}}, \"type\": \"histogram\"}], \"histogram2d\": [{\"colorbar\": {\"outlinewidth\": 0, \"ticks\": \"\"}, \"colorscale\": [[0.0, \"#0d0887\"], [0.1111111111111111, \"#46039f\"], [0.2222222222222222, \"#7201a8\"], [0.3333333333333333, \"#9c179e\"], [0.4444444444444444, \"#bd3786\"], [0.5555555555555556, \"#d8576b\"], [0.6666666666666666, \"#ed7953\"], [0.7777777777777778, \"#fb9f3a\"], [0.8888888888888888, \"#fdca26\"], [1.0, \"#f0f921\"]], \"type\": \"histogram2d\"}], \"histogram2dcontour\": [{\"colorbar\": {\"outlinewidth\": 0, \"ticks\": \"\"}, \"colorscale\": [[0.0, \"#0d0887\"], [0.1111111111111111, \"#46039f\"], [0.2222222222222222, \"#7201a8\"], [0.3333333333333333, \"#9c179e\"], [0.4444444444444444, \"#bd3786\"], [0.5555555555555556, \"#d8576b\"], [0.6666666666666666, \"#ed7953\"], [0.7777777777777778, \"#fb9f3a\"], [0.8888888888888888, \"#fdca26\"], [1.0, \"#f0f921\"]], \"type\": \"histogram2dcontour\"}], \"mesh3d\": [{\"colorbar\": {\"outlinewidth\": 0, \"ticks\": \"\"}, \"type\": \"mesh3d\"}], \"parcoords\": [{\"line\": {\"colorbar\": {\"outlinewidth\": 0, \"ticks\": \"\"}}, \"type\": \"parcoords\"}], \"pie\": [{\"automargin\": true, \"type\": \"pie\"}], \"scatter\": [{\"marker\": {\"colorbar\": {\"outlinewidth\": 0, \"ticks\": \"\"}}, \"type\": \"scatter\"}], \"scatter3d\": [{\"line\": {\"colorbar\": {\"outlinewidth\": 0, \"ticks\": \"\"}}, \"marker\": {\"colorbar\": {\"outlinewidth\": 0, \"ticks\": \"\"}}, \"type\": \"scatter3d\"}], \"scattercarpet\": [{\"marker\": {\"colorbar\": {\"outlinewidth\": 0, \"ticks\": \"\"}}, \"type\": \"scattercarpet\"}], \"scattergeo\": [{\"marker\": {\"colorbar\": {\"outlinewidth\": 0, \"ticks\": \"\"}}, \"type\": \"scattergeo\"}], \"scattergl\": [{\"marker\": {\"colorbar\": {\"outlinewidth\": 0, \"ticks\": \"\"}}, \"type\": \"scattergl\"}], \"scattermapbox\": [{\"marker\": {\"colorbar\": {\"outlinewidth\": 0, \"ticks\": \"\"}}, \"type\": \"scattermapbox\"}], \"scatterpolar\": [{\"marker\": {\"colorbar\": {\"outlinewidth\": 0, \"ticks\": \"\"}}, \"type\": \"scatterpolar\"}], \"scatterpolargl\": [{\"marker\": {\"colorbar\": {\"outlinewidth\": 0, \"ticks\": \"\"}}, \"type\": \"scatterpolargl\"}], \"scatterternary\": [{\"marker\": {\"colorbar\": {\"outlinewidth\": 0, \"ticks\": \"\"}}, \"type\": \"scatterternary\"}], \"surface\": [{\"colorbar\": {\"outlinewidth\": 0, \"ticks\": \"\"}, \"colorscale\": [[0.0, \"#0d0887\"], [0.1111111111111111, \"#46039f\"], [0.2222222222222222, \"#7201a8\"], [0.3333333333333333, \"#9c179e\"], [0.4444444444444444, \"#bd3786\"], [0.5555555555555556, \"#d8576b\"], [0.6666666666666666, \"#ed7953\"], [0.7777777777777778, \"#fb9f3a\"], [0.8888888888888888, \"#fdca26\"], [1.0, \"#f0f921\"]], \"type\": \"surface\"}], \"table\": [{\"cells\": {\"fill\": {\"color\": \"#EBF0F8\"}, \"line\": {\"color\": \"white\"}}, \"header\": {\"fill\": {\"color\": \"#C8D4E3\"}, \"line\": {\"color\": \"white\"}}, \"type\": \"table\"}]}, \"layout\": {\"annotationdefaults\": {\"arrowcolor\": \"#2a3f5f\", \"arrowhead\": 0, \"arrowwidth\": 1}, \"coloraxis\": {\"colorbar\": {\"outlinewidth\": 0, \"ticks\": \"\"}}, \"colorscale\": {\"diverging\": [[0, \"#8e0152\"], [0.1, \"#c51b7d\"], [0.2, \"#de77ae\"], [0.3, \"#f1b6da\"], [0.4, \"#fde0ef\"], [0.5, \"#f7f7f7\"], [0.6, \"#e6f5d0\"], [0.7, \"#b8e186\"], [0.8, \"#7fbc41\"], [0.9, \"#4d9221\"], [1, \"#276419\"]], \"sequential\": [[0.0, \"#0d0887\"], [0.1111111111111111, \"#46039f\"], [0.2222222222222222, \"#7201a8\"], [0.3333333333333333, \"#9c179e\"], [0.4444444444444444, \"#bd3786\"], [0.5555555555555556, \"#d8576b\"], [0.6666666666666666, \"#ed7953\"], [0.7777777777777778, \"#fb9f3a\"], [0.8888888888888888, \"#fdca26\"], [1.0, \"#f0f921\"]], \"sequentialminus\": [[0.0, \"#0d0887\"], [0.1111111111111111, \"#46039f\"], [0.2222222222222222, \"#7201a8\"], [0.3333333333333333, \"#9c179e\"], [0.4444444444444444, \"#bd3786\"], [0.5555555555555556, \"#d8576b\"], [0.6666666666666666, \"#ed7953\"], [0.7777777777777778, \"#fb9f3a\"], [0.8888888888888888, \"#fdca26\"], [1.0, \"#f0f921\"]]}, \"colorway\": [\"#636efa\", \"#EF553B\", \"#00cc96\", \"#ab63fa\", \"#FFA15A\", \"#19d3f3\", \"#FF6692\", \"#B6E880\", \"#FF97FF\", \"#FECB52\"], \"font\": {\"color\": \"#2a3f5f\"}, \"geo\": {\"bgcolor\": \"white\", \"lakecolor\": \"white\", \"landcolor\": \"#E5ECF6\", \"showlakes\": true, \"showland\": true, \"subunitcolor\": \"white\"}, \"hoverlabel\": {\"align\": \"left\"}, \"hovermode\": \"closest\", \"mapbox\": {\"style\": \"light\"}, \"paper_bgcolor\": \"white\", \"plot_bgcolor\": \"#E5ECF6\", \"polar\": {\"angularaxis\": {\"gridcolor\": \"white\", \"linecolor\": \"white\", \"ticks\": \"\"}, \"bgcolor\": \"#E5ECF6\", \"radialaxis\": {\"gridcolor\": \"white\", \"linecolor\": \"white\", \"ticks\": \"\"}}, \"scene\": {\"xaxis\": {\"backgroundcolor\": \"#E5ECF6\", \"gridcolor\": \"white\", \"gridwidth\": 2, \"linecolor\": \"white\", \"showbackground\": true, \"ticks\": \"\", \"zerolinecolor\": \"white\"}, \"yaxis\": {\"backgroundcolor\": \"#E5ECF6\", \"gridcolor\": \"white\", \"gridwidth\": 2, \"linecolor\": \"white\", \"showbackground\": true, \"ticks\": \"\", \"zerolinecolor\": \"white\"}, \"zaxis\": {\"backgroundcolor\": \"#E5ECF6\", \"gridcolor\": \"white\", \"gridwidth\": 2, \"linecolor\": \"white\", \"showbackground\": true, \"ticks\": \"\", \"zerolinecolor\": \"white\"}}, \"shapedefaults\": {\"line\": {\"color\": \"#2a3f5f\"}}, \"ternary\": {\"aaxis\": {\"gridcolor\": \"white\", \"linecolor\": \"white\", \"ticks\": \"\"}, \"baxis\": {\"gridcolor\": \"white\", \"linecolor\": \"white\", \"ticks\": \"\"}, \"bgcolor\": \"#E5ECF6\", \"caxis\": {\"gridcolor\": \"white\", \"linecolor\": \"white\", \"ticks\": \"\"}}, \"title\": {\"x\": 0.05}, \"xaxis\": {\"automargin\": true, \"gridcolor\": \"white\", \"linecolor\": \"white\", \"ticks\": \"\", \"title\": {\"standoff\": 15}, \"zerolinecolor\": \"white\", \"zerolinewidth\": 2}, \"yaxis\": {\"automargin\": true, \"gridcolor\": \"white\", \"linecolor\": \"white\", \"ticks\": \"\", \"title\": {\"standoff\": 15}, \"zerolinecolor\": \"white\", \"zerolinewidth\": 2}}}, \"title\": {\"text\": \"4 Features KMeans (Size= Defensive Penalty resulting in 1st Down)\"}, \"xaxis\": {\"anchor\": \"y\", \"domain\": [0.0, 1.0], \"title\": {\"text\": \"D_P_Int\"}}, \"yaxis\": {\"anchor\": \"x\", \"domain\": [0.0, 1.0], \"title\": {\"text\": \"D_Pe_Yards\"}}},\n",
              "                        {\"responsive\": true}\n",
              "                    ).then(function(){\n",
              "                            \n",
              "var gd = document.getElementById('82811a2f-33f6-469f-ae69-283eafa86e54');\n",
              "var x = new MutationObserver(function (mutations, observer) {{\n",
              "        var display = window.getComputedStyle(gd).display;\n",
              "        if (!display || display === 'none') {{\n",
              "            console.log([gd, 'removed!']);\n",
              "            Plotly.purge(gd);\n",
              "            observer.disconnect();\n",
              "        }}\n",
              "}});\n",
              "\n",
              "// Listen for the removal of the full notebook cells\n",
              "var notebookContainer = gd.closest('#notebook-container');\n",
              "if (notebookContainer) {{\n",
              "    x.observe(notebookContainer, {childList: true});\n",
              "}}\n",
              "\n",
              "// Listen for the clearing of the current output cell\n",
              "var outputEl = gd.closest('.output');\n",
              "if (outputEl) {{\n",
              "    x.observe(outputEl, {childList: true});\n",
              "}}\n",
              "\n",
              "                        })\n",
              "                };\n",
              "                \n",
              "            </script>\n",
              "        </div>\n",
              "</body>\n",
              "</html>"
            ]
          },
          "metadata": {
            "tags": []
          }
        }
      ]
    },
    {
      "cell_type": "markdown",
      "metadata": {
        "id": "cG95CE1AE9Ma"
      },
      "source": [
        "![newplot (3).png](data:image/png;base64,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)"
      ]
    },
    {
      "cell_type": "markdown",
      "metadata": {
        "id": "VVKYZ0H5DaOb"
      },
      "source": [
        "      No correlation to the number of Defensive Pass Interfernce penalties and Superbowl winners\n",
        "      No correlation to the number of Defensive Penalties and Superbowl winners"
      ]
    },
    {
      "cell_type": "markdown",
      "metadata": {
        "id": "x5zf-DBSYL5T"
      },
      "source": [
        "#### Missing Data"
      ]
    },
    {
      "cell_type": "markdown",
      "metadata": {
        "id": "4hL6WdbsYbmy"
      },
      "source": [
        "       No missing or odd data"
      ]
    },
    {
      "cell_type": "code",
      "metadata": {
        "id": "AdtMiddDYLFR",
        "colab": {
          "base_uri": "https://localhost:8080/"
        },
        "outputId": "3fb9afa8-3368-4fa8-e62e-d8b3cd3b49f8"
      },
      "source": [
        "data.isnull().sum()"
      ],
      "execution_count": 26,
      "outputs": [
        {
          "output_type": "execute_result",
          "data": {
            "text/plain": [
              "O_Rank               0\n",
              "Team                 0\n",
              "O_Games_Played       0\n",
              "O_Points_For         0\n",
              "O_Total_Yards        0\n",
              "O_Plays              0\n",
              "O_Y/Play             0\n",
              "O_TO                 0\n",
              "O_Fumbles_Lost       0\n",
              "O_1st_D              0\n",
              "O_P_Completions      0\n",
              "O_P_Attempts         0\n",
              "O_P_Yards            0\n",
              "O_P_TD               0\n",
              "O_P_Int              0\n",
              "O_P_Y/PA             0\n",
              "O_P_Passing_1st_D    0\n",
              "O_R_Att              0\n",
              "O_R_Yards            0\n",
              "O_R_TD               0\n",
              "O_R_Y/A              0\n",
              "O_R_1st_D            0\n",
              "O_Pe                 0\n",
              "O_Pe_Yards           0\n",
              "O_Pe_1st_D           0\n",
              "O_Scoring_Drives     0\n",
              "O_TO_%               0\n",
              "O_Expected_Points    0\n",
              "Year                 0\n",
              "D_Rank               0\n",
              "D_Games_Played       0\n",
              "D_Points_Allowed     0\n",
              "D_Total_Yards        0\n",
              "D_Plays              0\n",
              "D_Y/Play             0\n",
              "D_TD                 0\n",
              "D_Fumbles_Lost       0\n",
              "D_1st_D              0\n",
              "D_P_Completions      0\n",
              "D_P_Attempts         0\n",
              "D_P_Yards            0\n",
              "D_P_TD               0\n",
              "D_P_Int              0\n",
              "D_P_Y/PA             0\n",
              "D_P_Passing_1st_D    0\n",
              "D_R_Att              0\n",
              "D_R_Yards            0\n",
              "D_R_TD               0\n",
              "D_R_Y/A              0\n",
              "D_R_1st_D            0\n",
              "D_Pe                 0\n",
              "D_Pe_Yards           0\n",
              "D_Pe_1st_D           0\n",
              "D_Scoring_Drives     0\n",
              "D_TD_%               0\n",
              "D_Expected_Points    0\n",
              "Superbowl Winner     0\n",
              "dtype: int64"
            ]
          },
          "metadata": {
            "tags": []
          },
          "execution_count": 26
        }
      ]
    },
    {
      "cell_type": "markdown",
      "metadata": {
        "id": "VaOr0PJ6gCjf"
      },
      "source": [
        "### Modeling"
      ]
    },
    {
      "cell_type": "markdown",
      "metadata": {
        "id": "voB61X4x2zQX"
      },
      "source": [
        "#### Baseline Model "
      ]
    },
    {
      "cell_type": "code",
      "metadata": {
        "colab": {
          "base_uri": "https://localhost:8080/"
        },
        "id": "OfCfG5VP4H9d",
        "outputId": "dd27c2a8-e785-4cc6-83fb-ddbe9f6f9754"
      },
      "source": [
        "X = data.drop(columns= ['Superbowl Winner', 'Team'])\n",
        "y = data['Superbowl Winner']\n",
        "\n",
        "X_train, X_test, y_train, y_test = train_test_split(X, y, random_state=3)\n",
        "\n",
        "prediction = statistics.mode(y_train)\n",
        "y_pred_base = [prediction] * len(y_test)\n",
        "score = accuracy_score(y_test, y_pred_base)\n",
        "\n",
        "print(f'Baseline accuracy {round(score * 100, 0)}%')"
      ],
      "execution_count": 48,
      "outputs": [
        {
          "output_type": "stream",
          "text": [
            "Baseline accuracy 98.0%\n"
          ],
          "name": "stdout"
        }
      ]
    },
    {
      "cell_type": "code",
      "metadata": {
        "id": "rN_f8fyt24RO"
      },
      "source": [
        "stati"
      ],
      "execution_count": null,
      "outputs": []
    },
    {
      "cell_type": "markdown",
      "metadata": {
        "id": "cswmPk_Lm4PE"
      },
      "source": [
        "#### PCA"
      ]
    },
    {
      "cell_type": "code",
      "metadata": {
        "colab": {
          "base_uri": "https://localhost:8080/",
          "height": 278
        },
        "id": "vDLy6H-CmYtF",
        "outputId": "81d8878d-8454-4e4b-bd8e-daec9c2fb7bc"
      },
      "source": [
        "X = data.drop(columns= ['Superbowl Winner', 'Team'])\n",
        "y = data['Superbowl Winner']\n",
        "\n",
        "scaler = StandardScaler()\n",
        "scaled_df = scaler.fit_transform(X)\n",
        "pca = PCA()\n",
        "pca.fit(scaled_df)\n",
        "\n",
        "plt.plot(range(1, 11), pca.explained_variance_ratio_[:10], marker= 'o', color= 'cadetblue')\n",
        "plt.xticks(ticks = range(1, 11))\n",
        "plt.xlabel('Principal Component')\n",
        "plt.ylabel('Proportion of Explained Variance');"
      ],
      "execution_count": 27,
      "outputs": [
        {
          "output_type": "display_data",
          "data": {
            "image/png": "[encoded data removed]",
            "text/plain": [
              "<Figure size 432x288 with 1 Axes>"
            ]
          },
          "metadata": {
            "tags": [],
            "needs_background": "light"
          }
        }
      ]
    },
    {
      "cell_type": "markdown",
      "metadata": {
        "id": "EddpuBZwm8o7"
      },
      "source": [
        "      Pricipal Component: n_components = 3"
      ]
    },
    {
      "cell_type": "markdown",
      "metadata": {
        "id": "i2FvV4iEgMq7"
      },
      "source": [
        "#### Predicting Superbowl Winner using KNN"
      ]
    },
    {
      "cell_type": "code",
      "metadata": {
        "colab": {
          "base_uri": "https://localhost:8080/"
        },
        "id": "1KoTf6_6gPLK",
        "outputId": "e2a122fe-223b-46c3-b84b-bf16ccdc7572"
      },
      "source": [
        "X = data.drop(columns= ['Superbowl Winner', 'Team'])\n",
        "y = data['Superbowl Winner']\n",
        "\n",
        "X_train, X_test, y_train, y_test = train_test_split(X, y, random_state=3)\n",
        "knn_pipe = make_pipeline(StandardScaler(), PCA(n_components= 3), KNeighborsClassifier())\n",
        "knn_pipe.fit(X_train, y_train) \n",
        "\n",
        "print('X Shape: ' + str(X.shape))\n",
        "print('y Shape: ' + str(y.shape))\n",
        "print('')\n",
        "print('Training accuracy:', knn_pipe.score(X_train, y_train))\n",
        "print('Testing accuracy:', knn_pipe.score(X_test, y_test))"
      ],
      "execution_count": 52,
      "outputs": [
        {
          "output_type": "stream",
          "text": [
            "X Shape: (352, 55)\n",
            "y Shape: (352,)\n",
            "\n",
            "Training accuracy: 0.9621212121212122\n",
            "Testing accuracy: 0.9772727272727273\n"
          ],
          "name": "stdout"
        }
      ]
    },
    {
      "cell_type": "markdown",
      "metadata": {
        "id": "p03vAVwYhdiE"
      },
      "source": [
        "#### Predicting Superbowl Winner using Logistic Regression"
      ]
    },
    {
      "cell_type": "code",
      "metadata": {
        "colab": {
          "base_uri": "https://localhost:8080/"
        },
        "id": "WI-cDvm4hdCk",
        "outputId": "127afa25-2dad-4a55-dc3d-f0e82883f755"
      },
      "source": [
        "X = data.drop(columns= ['Superbowl Winner', 'Team'])\n",
        "y = data['Superbowl Winner']\n",
        "\n",
        "X_train, X_test, y_train, y_test = train_test_split(X, y, random_state=3)\n",
        "logreg_pipe = make_pipeline(StandardScaler(), PCA(n_components= 3), LogisticRegression())\n",
        "logreg_pipe.fit(X_train, y_train) \n",
        "\n",
        "print('X Shape: ' + str(X.shape))\n",
        "print('y Shape: ' + str(y.shape))\n",
        "print('')\n",
        "print('Training accuracy:', logreg_pipe.score(X_train, y_train))\n",
        "print('Testing accuracy:', logreg_pipe.score(X_test, y_test))"
      ],
      "execution_count": 37,
      "outputs": [
        {
          "output_type": "stream",
          "text": [
            "X Shape: (352, 55)\n",
            "y Shape: (352,)\n",
            "\n",
            "Training accuracy: 0.9659090909090909\n",
            "Testing accuracy: 0.9772727272727273\n"
          ],
          "name": "stdout"
        }
      ]
    },
    {
      "cell_type": "markdown",
      "metadata": {
        "id": "ae1No9FKjWKY"
      },
      "source": [
        "#### Predicting Superbowl Winner using Decision Tree"
      ]
    },
    {
      "cell_type": "code",
      "metadata": {
        "colab": {
          "base_uri": "https://localhost:8080/"
        },
        "id": "4q_p8pp0jYph",
        "outputId": "0e306e8b-8bdf-4f12-f3ca-75074b51a89e"
      },
      "source": [
        "X = data.drop(columns= ['Superbowl Winner', 'Team'])\n",
        "y = data['Superbowl Winner']\n",
        "\n",
        "X_train, X_test, y_train, y_test = train_test_split(X, y, random_state=3)\n",
        "dtc_pipe = make_pipeline(PCA(n_components= 3), DecisionTreeClassifier(max_depth=3))\n",
        "dtc_pipe.fit(X_train, y_train) \n",
        "\n",
        "print('X Shape: ' + str(X.shape))\n",
        "print('y Shape: ' + str(y.shape))\n",
        "print('')\n",
        "print('Training accuracy:', dtc_pipe.score(X_train, y_train))\n",
        "print('Testing accuracy:', dtc_pipe.score(X_test, y_test))"
      ],
      "execution_count": 36,
      "outputs": [
        {
          "output_type": "stream",
          "text": [
            "X Shape: (352, 55)\n",
            "y Shape: (352,)\n",
            "\n",
            "Training accuracy: 0.9772727272727273\n",
            "Testing accuracy: 0.9772727272727273\n"
          ],
          "name": "stdout"
        }
      ]
    },
    {
      "cell_type": "markdown",
      "metadata": {
        "id": "TEv7Ew17nd8C"
      },
      "source": [
        "##### Hyperparameter Tuning: max_depth "
      ]
    },
    {
      "cell_type": "code",
      "metadata": {
        "colab": {
          "base_uri": "https://localhost:8080/",
          "height": 351
        },
        "id": "uvBAiyosndfi",
        "outputId": "9674184d-3074-4a21-c922-95b2a9af9f4b"
      },
      "source": [
        "max_depth_range = list(range(1, 21))\n",
        "accuracy = []\n",
        "for depth in max_depth_range:\n",
        "  dtc = DecisionTreeClassifier(max_depth= depth, random_state=3)\n",
        "  dtc.fit(X_train, y_train)\n",
        "  score = dtc.score(X_test, y_test)\n",
        "  accuracy.append(score)\n",
        "print(accuracy)\n",
        "print(' ')\n",
        "\n",
        "plt.plot(max_depth_range, accuracy, color='cadetblue', marker='o')\n",
        "plt.xlabel('max_depth')\n",
        "plt.ylabel('Accuracy')\n",
        "plt.title('Hyperparameter Tuning: max_depth')\n",
        "plt.xticks(range(0,21))\n",
        "plt.grid(True)\n",
        "plt.show();"
      ],
      "execution_count": 35,
      "outputs": [
        {
          "output_type": "stream",
          "text": [
            "[0.9772727272727273, 0.9772727272727273, 0.9772727272727273, 0.9772727272727273, 0.9545454545454546, 0.9318181818181818, 0.9318181818181818, 0.9318181818181818, 0.9318181818181818, 0.9318181818181818, 0.9318181818181818, 0.9318181818181818, 0.9318181818181818, 0.9318181818181818, 0.9318181818181818, 0.9318181818181818, 0.9318181818181818, 0.9318181818181818, 0.9318181818181818, 0.9318181818181818]\n",
            " \n"
          ],
          "name": "stdout"
        },
        {
          "output_type": "display_data",
          "data": {
            "image/png": "[encoded data removed]",
            "text/plain": [
              "<Figure size 432x288 with 1 Axes>"
            ]
          },
          "metadata": {
            "tags": [],
            "needs_background": "light"
          }
        }
      ]
    },
    {
      "cell_type": "markdown",
      "metadata": {
        "id": "vfjlXX7nj61O"
      },
      "source": [
        "#### Predicting Superbowl Winner using Random Forest"
      ]
    },
    {
      "cell_type": "code",
      "metadata": {
        "colab": {
          "base_uri": "https://localhost:8080/"
        },
        "id": "p6k79mKGikS_",
        "outputId": "99278e80-1767-4d0a-dddc-d326fc21bdad"
      },
      "source": [
        "X = data.drop(columns= ['Superbowl Winner', 'Team'])\n",
        "y = data['Superbowl Winner']\n",
        "\n",
        "X_train, X_test, y_train, y_test = train_test_split(X, y, random_state=3)\n",
        "rfc_pipe = make_pipeline(PCA(n_components= 3), RandomForestClassifier(n_estimators=10))\n",
        "rfc_pipe.fit(X_train, y_train) \n",
        "\n",
        "print('X Shape: ' + str(X.shape))\n",
        "print('y Shape: ' + str(y.shape))\n",
        "print('')\n",
        "print('Training accuracy:', rfc_pipe.score(X_train, y_train))\n",
        "print('Testing accuracy:', rfc_pipe.score(X_test, y_test))"
      ],
      "execution_count": 39,
      "outputs": [
        {
          "output_type": "stream",
          "text": [
            "X Shape: (352, 55)\n",
            "y Shape: (352,)\n",
            "\n",
            "Training accuracy: 0.9924242424242424\n",
            "Testing accuracy: 0.9772727272727273\n"
          ],
          "name": "stdout"
        }
      ]
    },
    {
      "cell_type": "markdown",
      "metadata": {
        "id": "ar-FNa82ov_M"
      },
      "source": [
        "##### Hyperparameter Tuning: n_estimators "
      ]
    },
    {
      "cell_type": "code",
      "metadata": {
        "colab": {
          "base_uri": "https://localhost:8080/",
          "height": 331
        },
        "id": "IS2fmqK8owgd",
        "outputId": "dfd26850-d2a1-4acd-f776-11b37d33aaf8"
      },
      "source": [
        "estimator_range = [1] + list(range(10, 21, 10))\n",
        "scores = []\n",
        "for estimator in estimator_range:\n",
        "  rfc = RandomForestClassifier(n_estimators=estimator,\n",
        "                               random_state=1,\n",
        "                               bootstrap=True)\n",
        "  rfc.fit(X_train, y_train)\n",
        "  scores.append(rfc.score(X_test, y_test))\n",
        "print(scores)\n",
        "print(' ')\n",
        "\n",
        "\n",
        "plt.plot(estimator_range, scores, color='cadetblue', marker='o')\n",
        "plt.xlabel('max_depth')\n",
        "plt.ylabel('Accuracy')\n",
        "plt.title('Hyperparameter Tuning: n_estimator')\n",
        "plt.xticks(range(0,21))\n",
        "plt.grid(True)\n",
        "plt.show();"
      ],
      "execution_count": 40,
      "outputs": [
        {
          "output_type": "stream",
          "text": [
            "[0.9659090909090909, 0.9772727272727273, 0.9772727272727273]\n",
            " \n"
          ],
          "name": "stdout"
        },
        {
          "output_type": "display_data",
          "data": {
            "image/png": "[encoded data removed]",
            "text/plain": [
              "<Figure size 432x288 with 1 Axes>"
            ]
          },
          "metadata": {
            "tags": [],
            "needs_background": "light"
          }
        }
      ]
    },
    {
      "cell_type": "markdown",
      "metadata": {
        "id": "bnruxG_T0pYH"
      },
      "source": [
        "#### Predicting Superbowl Winner using XGBoost"
      ]
    },
    {
      "cell_type": "code",
      "metadata": {
        "colab": {
          "base_uri": "https://localhost:8080/"
        },
        "id": "0lj3fpOZ0sg0",
        "outputId": "2ecacc1b-adaf-4575-9b4a-88bbf90f8429"
      },
      "source": [
        "X = data.drop(columns= ['Superbowl Winner', 'Team'])\n",
        "y = data['Superbowl Winner']\n",
        "\n",
        "X_train, X_test, y_train, y_test = train_test_split(X, y, random_state=3)\n",
        "xgb_pipe = make_pipeline(PCA(n_components= 3), XGBClassifier())\n",
        "xgb_pipe.fit(X_train, y_train) \n",
        "\n",
        "print('X Shape: ' + str(X.shape))\n",
        "print('y Shape: ' + str(y.shape))\n",
        "print('')\n",
        "print('Training accuracy:', xgb_pipe.score(X_train, y_train))\n",
        "print('Testing accuracy:', xgb_pipe.score(X_test, y_test))"
      ],
      "execution_count": 41,
      "outputs": [
        {
          "output_type": "stream",
          "text": [
            "X Shape: (352, 55)\n",
            "y Shape: (352,)\n",
            "\n",
            "Training accuracy: 0.9886363636363636\n",
            "Testing accuracy: 0.9772727272727273\n"
          ],
          "name": "stdout"
        }
      ]
    },
    {
      "cell_type": "code",
      "metadata": {
        "colab": {
          "base_uri": "https://localhost:8080/",
          "height": 331
        },
        "id": "NvwfmdKG7D6d",
        "outputId": "50d36aaa-740a-41cb-98cf-8910bf256f7f"
      },
      "source": [
        "estimator_range = [1] + list(range(10, 31, 10))\n",
        "scores = []\n",
        "for estimator in estimator_range:\n",
        "  xgb = XGBClassifier(n_estimators=estimator,\n",
        "                               random_state=1,\n",
        "                               bootstrap=True)\n",
        "  xgb.fit(X_train, y_train)\n",
        "  scores.append(xgb.score(X_test, y_test))\n",
        "print(scores)\n",
        "print(' ')\n",
        "\n",
        "\n",
        "plt.plot(estimator_range, scores, color='cadetblue', marker='o')\n",
        "plt.xlabel('max_depth')\n",
        "plt.ylabel('Accuracy')\n",
        "plt.title('Hyperparameter Tuning: n_estimator')\n",
        "plt.xticks(range(0,31))\n",
        "plt.grid(True)\n",
        "plt.show();"
      ],
      "execution_count": 76,
      "outputs": [
        {
          "output_type": "stream",
          "text": [
            "[0.9772727272727273, 0.9659090909090909, 0.9772727272727273, 0.9772727272727273]\n",
            " \n"
          ],
          "name": "stdout"
        },
        {
          "output_type": "display_data",
          "data": {
            "image/png": "[encoded data removed]",
            "text/plain": [
              "<Figure size 432x288 with 1 Axes>"
            ]
          },
          "metadata": {
            "tags": [],
            "needs_background": "light"
          }
        }
      ]
    },
    {
      "cell_type": "code",
      "metadata": {
        "colab": {
          "base_uri": "https://localhost:8080/"
        },
        "id": "ji7NoA2y6k4-",
        "outputId": "09ccdb12-a772-4e47-8fa3-7a0d43e638cd"
      },
      "source": [
        "X = data.drop(columns= ['Superbowl Winner', 'Team'])\n",
        "y = data['Superbowl Winner']\n",
        "\n",
        "X_train, X_test, y_train, y_test = train_test_split(X, y, random_state=3)\n",
        "xgb_pipe = make_pipeline(PCA(n_components= 3), XGBClassifier(base_score=0.5, booster='gbtree',\n",
        "                                           colsample_bylevel=1,\n",
        "                                           colsample_bynode=1,\n",
        "                                           colsample_bytree=0.7, gamma=0.2,\n",
        "                                           learning_rate=0.15, max_delta_step=0,\n",
        "                                           max_depth=6, min_child_weight=7,\n",
        "                                           missing=None, n_estimators=1,\n",
        "                                           n_jobs=1, nthread=None,\n",
        "                                           objective='binary:logistic',\n",
        "                                           random_state=0, reg_alpha=0,\n",
        "                                           reg_lambda=1, scale_pos_weight=1, seed=None, silent=True, subsample=1))\n",
        "xgb_pipe.fit(X_train, y_train) \n",
        "\n",
        "print('X Shape: ' + str(X.shape))\n",
        "print('y Shape: ' + str(y.shape))\n",
        "print('')\n",
        "print('Training accuracy:', xgb_pipe.score(X_train, y_train))\n",
        "print('Testing accuracy:', xgb_pipe.score(X_test, y_test))"
      ],
      "execution_count": 81,
      "outputs": [
        {
          "output_type": "stream",
          "text": [
            "X Shape: (352, 55)\n",
            "y Shape: (352,)\n",
            "\n",
            "Training accuracy: 0.9659090909090909\n",
            "Testing accuracy: 0.9772727272727273\n"
          ],
          "name": "stdout"
        }
      ]
    },
    {
      "cell_type": "code",
      "metadata": {
        "id": "NzcRCyzr5_LW"
      },
      "source": [
        "params = {\n",
        "    'learning_rate': [0.05, 0.10, 0.15, 0.20, 0.25, 0.30],\n",
        "    'max_depth': [3, 4, 5, 6, 8, 10, 12, 15],\n",
        "    'min_child_weight': [1, 3, 5, 7],\n",
        "    'gamma': [0.0, 0.01, 0.2, 0.3, 0.4],\n",
        "    'colsample_bytree': [0.3, 0.4, 0.5, 0.7],\n",
        "    'n_estimators': [1,2,3,4,5,6,7,8,9,10,11,12,13,14,15,16,17,18,19,20,21,22,23,24,25],\n",
        "    'max_depth': [1,2,3,4,5,6,7,8,9,10,11,12,13,14,15,16,17,18,19,20,21,22,23,24,25]\n",
        "}\n",
        "\n",
        "classifier = xgboost.XGBClassifier()\n",
        "random_search = RandomizedSearchCV(classifier, \n",
        "                                   param_distributions= params, \n",
        "                                   n_iter=5, \n",
        "                                   scoring='accuracy', \n",
        "                                   n_jobs=-1, \n",
        "                                   cv=5, \n",
        "                                   verbose=3)"
      ],
      "execution_count": 55,
      "outputs": []
    },
    {
      "cell_type": "code",
      "metadata": {
        "colab": {
          "base_uri": "https://localhost:8080/"
        },
        "id": "bsTXKRkY6I50",
        "outputId": "b1772bfc-93fb-4d42-db72-3aff3f5565ff"
      },
      "source": [
        "random_search.fit(X,y)"
      ],
      "execution_count": 56,
      "outputs": [
        {
          "output_type": "stream",
          "text": [
            "Fitting 5 folds for each of 5 candidates, totalling 25 fits\n"
          ],
          "name": "stdout"
        },
        {
          "output_type": "stream",
          "text": [
            "[Parallel(n_jobs=-1)]: Using backend LokyBackend with 2 concurrent workers.\n",
            "[Parallel(n_jobs=-1)]: Done  25 out of  25 | elapsed:    1.6s finished\n"
          ],
          "name": "stderr"
        },
        {
          "output_type": "execute_result",
          "data": {
            "text/plain": [
              "RandomizedSearchCV(cv=5, error_score=nan,\n",
              "                   estimator=XGBClassifier(base_score=0.5, booster='gbtree',\n",
              "                                           colsample_bylevel=1,\n",
              "                                           colsample_bynode=1,\n",
              "                                           colsample_bytree=1, gamma=0,\n",
              "                                           learning_rate=0.1, max_delta_step=0,\n",
              "                                           max_depth=3, min_child_weight=1,\n",
              "                                           missing=None, n_estimators=100,\n",
              "                                           n_jobs=1, nthread=None,\n",
              "                                           objective='binary:logistic',\n",
              "                                           random_state=0, reg_alpha=0,\n",
              "                                           reg_lambda=1, sc...\n",
              "                                        'gamma': [0.0, 0.01, 0.2, 0.3, 0.4],\n",
              "                                        'learning_rate': [0.05, 0.1, 0.15, 0.2,\n",
              "                                                          0.25, 0.3],\n",
              "                                        'max_depth': [1, 2, 3, 4, 5, 6, 7, 8, 9,\n",
              "                                                      10, 11, 12, 13, 14, 15,\n",
              "                                                      16, 17, 18, 19, 20, 21,\n",
              "                                                      22, 23, 24, 25],\n",
              "                                        'min_child_weight': [1, 3, 5, 7],\n",
              "                                        'n_estimators': [1, 2, 3, 4, 5, 6, 7, 8,\n",
              "                                                         9, 10, 11, 12, 13, 14,\n",
              "                                                         15, 16, 17, 18, 19, 20,\n",
              "                                                         21, 22, 23, 24, 25]},\n",
              "                   pre_dispatch='2*n_jobs', random_state=None, refit=True,\n",
              "                   return_train_score=False, scoring='accuracy', verbose=3)"
            ]
          },
          "metadata": {
            "tags": []
          },
          "execution_count": 56
        }
      ]
    },
    {
      "cell_type": "code",
      "metadata": {
        "colab": {
          "base_uri": "https://localhost:8080/"
        },
        "id": "xNO872xq6KfG",
        "outputId": "c6c42941-2961-4d3f-d8d7-e8fce8307133"
      },
      "source": [
        "random_search.best_params_"
      ],
      "execution_count": 57,
      "outputs": [
        {
          "output_type": "execute_result",
          "data": {
            "text/plain": [
              "{'colsample_bytree': 0.5,\n",
              " 'gamma': 0.2,\n",
              " 'learning_rate': 0.15,\n",
              " 'max_depth': 6,\n",
              " 'min_child_weight': 7,\n",
              " 'n_estimators': 14}"
            ]
          },
          "metadata": {
            "tags": []
          },
          "execution_count": 57
        }
      ]
    },
    {
      "cell_type": "markdown",
      "metadata": {
        "id": "fBx8u1DmaDj3"
      },
      "source": [
        "# Citations"
      ]
    },
    {
      "cell_type": "markdown",
      "metadata": {
        "id": "VRQYuKKFaHnS"
      },
      "source": [
        "1. https://www.pro-football-reference.com/\n",
        "2. https://realpython.com/pandas-merge-join-and-concat/"
      ]
    }
  ]
}